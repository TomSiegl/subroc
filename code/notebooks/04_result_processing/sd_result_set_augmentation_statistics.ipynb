{
 "cells": [
  {
   "cell_type": "markdown",
   "id": "b9ba954f34980343",
   "metadata": {},
   "source": [
    "# Augment a Subgroup Discovery Result Set with Statistics (Cover Size and Class Balance) for each Subgroup"
   ]
  },
  {
   "cell_type": "markdown",
   "id": "c71606acbcb933a6",
   "metadata": {},
   "source": [
    "## Default Values for Papermill Parameters"
   ]
  },
  {
   "cell_type": "code",
   "execution_count": 23,
   "id": "initial_id",
   "metadata": {
    "ExecuteTime": {
     "end_time": "2024-07-03T15:07:57.663627Z",
     "start_time": "2024-07-03T15:07:57.646605Z"
    },
    "collapsed": true,
    "editable": true,
    "jupyter": {
     "outputs_hidden": true
    },
    "slideshow": {
     "slide_type": ""
    },
    "tags": [
     "parameters"
    ]
   },
   "outputs": [],
   "source": [
    "PARAM_RESULT_SET_PATH = \"../outputs/metrics_augmented_result_set.csv\"\n",
    "PARAM_AUGMENTATION_RESULT_FILENAME = \"statistics_augmented_result_set.csv\"\n",
    "PARAM_DATA_IN_PATH = \"../../data\"\n",
    "\n",
    "PARAM_DATASET_NAME = \"OpenML Adult\"\n",
    "PARAM_ENABLE_STATISTIC_COVER_SIZE = \"True\"\n",
    "PARAM_ENABLE_STATISTIC_CLASS_BALANCE = \"True\"\n",
    "PARAM_ENABLE_STATISTIC_NEGATIVE_CLASS_RATIO = \"False\""
   ]
  },
  {
   "cell_type": "markdown",
   "id": "4594c4db8918611c",
   "metadata": {},
   "source": [
    "## Import and Set Parameters"
   ]
  },
  {
   "cell_type": "code",
   "execution_count": 24,
   "id": "89d8866c280c829a",
   "metadata": {
    "ExecuteTime": {
     "end_time": "2024-07-03T15:07:59.205904Z",
     "start_time": "2024-07-03T15:07:57.667604Z"
    }
   },
   "outputs": [],
   "source": [
    "from subroc.datasets.metadata import to_DatasetName\n",
    "from subroc.datasets.reader import DatasetReader, DatasetStage\n",
    "from subroc.quality_functions.base_qf import label_balance_fraction\n",
    "from subroc.quality_functions.soft_classifier_target import SoftClassifierTarget\n",
    "from subroc.util import create_subgroup\n",
    "from subroc import util\n",
    "\n",
    "import pandas as pd\n",
    "import os\n",
    "\n",
    "# fill environment variables into params\n",
    "PARAM_RESULT_SET_PATH = util.prepend_experiment_output_path(PARAM_RESULT_SET_PATH)\n",
    "PARAM_DATA_IN_PATH = util.prepend_experiment_output_path(PARAM_DATA_IN_PATH)\n",
    "\n",
    "# get environment variables\n",
    "STAGE_OUTPUT_PATH = os.environ.get(\"STAGE_OUTPUT_PATH\", \"../outputs\")\n",
    "\n",
    "# Dataset\n",
    "dataset_reader = DatasetReader(PARAM_DATA_IN_PATH)\n",
    "\n",
    "DATA_OUT_PATH = f\"{STAGE_OUTPUT_PATH}/data/processed\"\n",
    "if not os.path.exists(DATA_OUT_PATH):\n",
    "    os.makedirs(DATA_OUT_PATH)\n",
    "\n",
    "DATASET_NAME = to_DatasetName(PARAM_DATASET_NAME)\n",
    "\n",
    "if DATASET_NAME is None:\n",
    "    print(f\"dataset name '{PARAM_DATASET_NAME}' not supported.\")\n",
    "\n",
    "DATASET_STAGE = DatasetStage.PROCESSED_MODEL_PREDICTED\n",
    "\n",
    "PARAM_ENABLE_STATISTIC_COVER_SIZE = util.str_to_bool(PARAM_ENABLE_STATISTIC_COVER_SIZE)\n",
    "PARAM_ENABLE_STATISTIC_CLASS_BALANCE = util.str_to_bool(PARAM_ENABLE_STATISTIC_CLASS_BALANCE)\n",
    "PARAM_ENABLE_STATISTIC_NEGATIVE_CLASS_RATIO = util.str_to_bool(PARAM_ENABLE_STATISTIC_NEGATIVE_CLASS_RATIO)"
   ]
  },
  {
   "cell_type": "markdown",
   "id": "4ffb5e70df90a9fe",
   "metadata": {},
   "source": [
    "## Read the Data"
   ]
  },
  {
   "cell_type": "code",
   "execution_count": 25,
   "id": "b22a92be02d03c97",
   "metadata": {
    "ExecuteTime": {
     "end_time": "2024-07-03T15:08:00.461204Z",
     "start_time": "2024-07-03T15:07:59.208212Z"
    }
   },
   "outputs": [],
   "source": [
    "# read data\n",
    "(train_data, test_data), dataset_meta = dataset_reader.read_dataset(DATASET_NAME, DATASET_STAGE)"
   ]
  },
  {
   "cell_type": "markdown",
   "id": "333c304ae30043d3",
   "metadata": {},
   "source": [
    "## Read the Result Set"
   ]
  },
  {
   "cell_type": "code",
   "execution_count": 26,
   "id": "72fcb491546cd7b",
   "metadata": {
    "ExecuteTime": {
     "end_time": "2024-07-03T15:08:00.476746Z",
     "start_time": "2024-07-03T15:08:00.463295Z"
    }
   },
   "outputs": [],
   "source": [
    "result_set = pd.read_csv(f\"{PARAM_RESULT_SET_PATH}\")"
   ]
  },
  {
   "cell_type": "markdown",
   "id": "e5242294817af058",
   "metadata": {},
   "source": [
    "## Augment the Result Set"
   ]
  },
  {
   "cell_type": "code",
   "execution_count": 27,
   "id": "df01584bb5c28272",
   "metadata": {
    "ExecuteTime": {
     "end_time": "2024-07-03T15:08:00.538797Z",
     "start_time": "2024-07-03T15:08:00.479723Z"
    }
   },
   "outputs": [],
   "source": [
    "original_columns = result_set.columns.values.tolist()\n",
    "\n",
    "# set the columns according to the enabled statistics\n",
    "statistic_columns = []\n",
    "if PARAM_ENABLE_STATISTIC_COVER_SIZE:\n",
    "    statistic_columns.append(\"cover_size\")\n",
    "if PARAM_ENABLE_STATISTIC_CLASS_BALANCE:\n",
    "    statistic_columns.append(\"class_balance\")\n",
    "if PARAM_ENABLE_STATISTIC_NEGATIVE_CLASS_RATIO:\n",
    "    statistic_columns.append(\"negative_class_ratio\")\n",
    "metrics_augmented_result_set = pd.DataFrame(columns=(original_columns + statistic_columns))\n",
    "\n",
    "# sd objects\n",
    "target = SoftClassifierTarget(dataset_meta.gt_name, dataset_meta.score_name)\n",
    "\n",
    "for i, result in enumerate(result_set.itertuples()):\n",
    "    # recreate the pysubgroup object for the subgroup with a representation for the dataset\n",
    "    sel_conjunction = util.from_str_Conjunction(result.pattern)\n",
    "    subgroup = create_subgroup(test_data, sel_conjunction.selectors)\n",
    "    \n",
    "    # compute the enabled statistics\n",
    "    statistics = []\n",
    "    if PARAM_ENABLE_STATISTIC_COVER_SIZE:\n",
    "        statistics.append(sum(subgroup.representation))\n",
    "    if PARAM_ENABLE_STATISTIC_CLASS_BALANCE:\n",
    "        statistics.append(label_balance_fraction(test_data.loc[subgroup.representation, target.gt_name]))\n",
    "    if PARAM_ENABLE_STATISTIC_NEGATIVE_CLASS_RATIO:\n",
    "        statistics.append(sum(test_data.loc[subgroup.representation][target.gt_name] == 0) / len(test_data.loc[subgroup.representation]))\n",
    "    \n",
    "    # append the augmented instance to metrics_augmented_result_set\n",
    "    metrics_augmented_result_set.loc[i] = [result[i+1] for i in range(len(original_columns))] + statistics"
   ]
  },
  {
   "cell_type": "markdown",
   "id": "aea26059f570d579",
   "metadata": {},
   "source": [
    "## Write the Augmentation Result"
   ]
  },
  {
   "cell_type": "code",
   "execution_count": 28,
   "id": "62d1192219060f6a",
   "metadata": {
    "ExecuteTime": {
     "end_time": "2024-07-03T15:08:00.554713Z",
     "start_time": "2024-07-03T15:08:00.542676Z"
    }
   },
   "outputs": [],
   "source": [
    "metrics_augmented_result_set.to_csv(f\"{STAGE_OUTPUT_PATH}/{PARAM_AUGMENTATION_RESULT_FILENAME}\", index=False)"
   ]
  }
 ],
 "metadata": {
  "kernelspec": {
   "display_name": "Python 3 (ipykernel)",
   "language": "python",
   "name": "python3"
  },
  "language_info": {
   "codemirror_mode": {
    "name": "ipython",
    "version": 3
   },
   "file_extension": ".py",
   "mimetype": "text/x-python",
   "name": "python",
   "nbconvert_exporter": "python",
   "pygments_lexer": "ipython3",
   "version": "3.10.14"
  }
 },
 "nbformat": 4,
 "nbformat_minor": 5
}
