{
 "cells": [
  {
   "cell_type": "markdown",
   "id": "acc536435111c881",
   "metadata": {},
   "source": [
    "# Group Multiple Subgroup Discovery Result Sets from a Single .csv File"
   ]
  },
  {
   "cell_type": "markdown",
   "id": "7f398c8ea9582d5c",
   "metadata": {},
   "source": [
    "## Default Values for Papermill Parameters"
   ]
  },
  {
   "cell_type": "code",
   "execution_count": 6,
   "id": "initial_id",
   "metadata": {
    "collapsed": true,
    "editable": true,
    "jupyter": {
     "outputs_hidden": true
    },
    "slideshow": {
     "slide_type": ""
    },
    "tags": [
     "parameters"
    ]
   },
   "outputs": [],
   "source": [
    "PARAM_GROUPBY_COLUMN_NAME = \"qf\"\n",
    "PARAM_RESULT_IN_PATH = \"../outputs/gathered_runtimes.csv\"\n",
    "PARAM_RESULT_OUT_FILENAME_NO_SUFFIX = \"result_set_groupby\""
   ]
  },
  {
   "cell_type": "markdown",
   "id": "8f1d9a00709c4abc",
   "metadata": {},
   "source": [
    "## Import and Set Parameters"
   ]
  },
  {
   "cell_type": "code",
   "execution_count": 7,
   "id": "3ccc81bbe769875b",
   "metadata": {},
   "outputs": [],
   "source": [
    "from subroc import util\n",
    "import pandas as pd\n",
    "import os\n",
    "\n",
    "# fill environment variables into params\n",
    "PARAM_RESULT_IN_PATH = util.prepend_experiment_output_path(PARAM_RESULT_IN_PATH)\n",
    "\n",
    "# get environment variables\n",
    "STAGE_OUTPUT_PATH = os.environ.get('STAGE_OUTPUT_PATH', '../outputs')"
   ]
  },
  {
   "cell_type": "markdown",
   "id": "6fb1c40a8478bcd",
   "metadata": {},
   "source": [
    "## Read the Result Set"
   ]
  },
  {
   "cell_type": "code",
   "execution_count": 8,
   "id": "618fa82716296473",
   "metadata": {},
   "outputs": [],
   "source": [
    "result_set = pd.read_csv(f\"{PARAM_RESULT_IN_PATH}\")"
   ]
  },
  {
   "cell_type": "markdown",
   "id": "1c99e235db779354",
   "metadata": {},
   "source": [
    "## Group the Result Sets"
   ]
  },
  {
   "cell_type": "code",
   "execution_count": 9,
   "id": "ad8c1d27948983e7",
   "metadata": {},
   "outputs": [],
   "source": [
    "result_set_groupby = result_set.groupby(PARAM_GROUPBY_COLUMN_NAME)\n",
    "result_set_group_keys = result_set_groupby.groups.keys()"
   ]
  },
  {
   "cell_type": "markdown",
   "id": "4354057a5386539c",
   "metadata": {},
   "source": [
    "## Write the Grouped Result Sets"
   ]
  },
  {
   "cell_type": "code",
   "execution_count": 10,
   "id": "91ebbe7d565397a3",
   "metadata": {},
   "outputs": [],
   "source": [
    "result_set.drop(columns=[PARAM_GROUPBY_COLUMN_NAME], inplace=True)\n",
    "\n",
    "for result_set_group_key in result_set_group_keys:\n",
    "    result_set_group = result_set_groupby.groups[result_set_group_key]\n",
    "\n",
    "    result_out_filename_suffix = result_set_group_key\n",
    "    if not result_out_filename_suffix.endswith(\".csv\"):\n",
    "        result_out_filename_suffix += \".csv\"\n",
    "\n",
    "    result_set.iloc[result_set_group].to_csv(f\"{STAGE_OUTPUT_PATH}/{PARAM_RESULT_OUT_FILENAME_NO_SUFFIX}_{result_out_filename_suffix}\", index=False)"
   ]
  }
 ],
 "metadata": {
  "kernelspec": {
   "display_name": "Python 3 (ipykernel)",
   "language": "python",
   "name": "python3"
  },
  "language_info": {
   "codemirror_mode": {
    "name": "ipython",
    "version": 3
   },
   "file_extension": ".py",
   "mimetype": "text/x-python",
   "name": "python",
   "nbconvert_exporter": "python",
   "pygments_lexer": "ipython3",
   "version": "3.10.14"
  }
 },
 "nbformat": 4,
 "nbformat_minor": 5
}
