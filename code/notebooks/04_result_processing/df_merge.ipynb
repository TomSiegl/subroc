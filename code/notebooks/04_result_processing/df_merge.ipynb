{
 "cells": [
  {
   "cell_type": "markdown",
   "id": "acc536435111c881",
   "metadata": {},
   "source": [
    "# Merge Multiple Pandas DataFrames from .csv Files into a Single .csv File"
   ]
  },
  {
   "cell_type": "markdown",
   "id": "7f398c8ea9582d5c",
   "metadata": {},
   "source": [
    "## Default Values for Papermill Parameters"
   ]
  },
  {
   "cell_type": "code",
   "execution_count": 1,
   "id": "initial_id",
   "metadata": {
    "collapsed": true,
    "editable": true,
    "jupyter": {
     "outputs_hidden": true
    },
    "slideshow": {
     "slide_type": ""
    },
    "tags": [
     "parameters"
    ]
   },
   "outputs": [],
   "source": [
    "PARAM_DF_DIR = \"../outputs\"\n",
    "PARAM_DF_FILENAMES = [\"sd_result_set_average_ranking_loss.csv\"]\n",
    "PARAM_MERGE_RESULT_FILENAME = \"merged_result_set.csv\""
   ]
  },
  {
   "cell_type": "markdown",
   "id": "8f1d9a00709c4abc",
   "metadata": {},
   "source": [
    "## Import and Set Parameters"
   ]
  },
  {
   "cell_type": "code",
   "execution_count": 2,
   "id": "3ccc81bbe769875b",
   "metadata": {},
   "outputs": [],
   "source": [
    "from subroc import util\n",
    "import pandas as pd\n",
    "import os\n",
    "import re\n",
    "\n",
    "# fill environment variables into params\n",
    "PARAM_DF_DIR = util.prepend_experiment_output_path(PARAM_DF_DIR)\n",
    "\n",
    "if PARAM_DF_FILENAMES is None:\n",
    "    # get all csv filenames in PARAM_DF_DIR\n",
    "    PARAM_DF_FILENAMES = [filename for filename in os.listdir(PARAM_DF_DIR)\n",
    "                   if os.path.isfile(os.path.join(PARAM_DF_DIR, filename))\n",
    "                   and re.match(\".*\\.csv$\", filename)]\n",
    "\n",
    "# get environment variables\n",
    "STAGE_OUTPUT_PATH = os.environ.get('STAGE_OUTPUT_PATH', '../outputs')"
   ]
  },
  {
   "cell_type": "markdown",
   "id": "6fb1c40a8478bcd",
   "metadata": {},
   "source": [
    "## Read the DataFrames"
   ]
  },
  {
   "cell_type": "code",
   "execution_count": 3,
   "id": "618fa82716296473",
   "metadata": {},
   "outputs": [],
   "source": [
    "dfs = []\n",
    "\n",
    "for df_filename in PARAM_DF_FILENAMES:\n",
    "    df = pd.read_csv(os.path.join(PARAM_DF_DIR, df_filename))\n",
    "    df[\"pre_merge_filename\"] = [df_filename]*len(df)\n",
    "    dfs.append(df)"
   ]
  },
  {
   "cell_type": "markdown",
   "id": "1c99e235db779354",
   "metadata": {},
   "source": [
    "## Merge the DataFrames"
   ]
  },
  {
   "cell_type": "code",
   "execution_count": 4,
   "id": "ad8c1d27948983e7",
   "metadata": {},
   "outputs": [],
   "source": [
    "merged_df = pd.concat(dfs, ignore_index=True)"
   ]
  },
  {
   "cell_type": "markdown",
   "id": "4354057a5386539c",
   "metadata": {},
   "source": [
    "## Write the Merge Result"
   ]
  },
  {
   "cell_type": "code",
   "execution_count": 5,
   "id": "91ebbe7d565397a3",
   "metadata": {},
   "outputs": [],
   "source": [
    "merged_df.to_csv(f\"{STAGE_OUTPUT_PATH}/{PARAM_MERGE_RESULT_FILENAME}\", index=False)"
   ]
  }
 ],
 "metadata": {
  "kernelspec": {
   "display_name": "Python 3 (ipykernel)",
   "language": "python",
   "name": "python3"
  },
  "language_info": {
   "codemirror_mode": {
    "name": "ipython",
    "version": 3
   },
   "file_extension": ".py",
   "mimetype": "text/x-python",
   "name": "python",
   "nbconvert_exporter": "python",
   "pygments_lexer": "ipython3",
   "version": "3.10.14"
  }
 },
 "nbformat": 4,
 "nbformat_minor": 5
}
