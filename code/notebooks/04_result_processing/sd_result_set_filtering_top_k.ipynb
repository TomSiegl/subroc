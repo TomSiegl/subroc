{
 "cells": [
  {
   "cell_type": "markdown",
   "id": "b9ba954f34980343",
   "metadata": {},
   "source": [
    "# Filter a Result Set by Some Numeric Column to Leave Only the Top-k Instances with the Largest Value"
   ]
  },
  {
   "cell_type": "markdown",
   "id": "c71606acbcb933a6",
   "metadata": {},
   "source": [
    "## Default Values for Papermill Parameters"
   ]
  },
  {
   "cell_type": "code",
   "execution_count": 11,
   "id": "initial_id",
   "metadata": {
    "collapsed": true,
    "editable": true,
    "jupyter": {
     "outputs_hidden": true
    },
    "slideshow": {
     "slide_type": ""
    },
    "tags": [
     "parameters"
    ]
   },
   "outputs": [],
   "source": [
    "PARAM_RESULT_SET_PATH = \"../outputs/sd_result_set_average_ranking_loss.csv\"\n",
    "PARAM_RESULT_OUT_FILENAME_NO_SUFFIX = \"top_k_filtered\"\n",
    "PARAM_FILTER_COLUMN_NAME = \"interestingness\"\n",
    "PARAM_K = 5"
   ]
  },
  {
   "cell_type": "markdown",
   "id": "4594c4db8918611c",
   "metadata": {},
   "source": [
    "## Import and Set Parameters"
   ]
  },
  {
   "cell_type": "code",
   "execution_count": 12,
   "id": "89d8866c280c829a",
   "metadata": {},
   "outputs": [],
   "source": [
    "from subroc import util\n",
    "import pandas as pd\n",
    "import os\n",
    "\n",
    "# fill environment variables into params\n",
    "PARAM_RESULT_SET_PATH = util.prepend_experiment_output_path(PARAM_RESULT_SET_PATH)\n",
    "\n",
    "# get environment variables\n",
    "STAGE_OUTPUT_PATH = os.environ.get(\"STAGE_OUTPUT_PATH\", \"../outputs\")"
   ]
  },
  {
   "cell_type": "markdown",
   "id": "333c304ae30043d3",
   "metadata": {},
   "source": [
    "## Read the Result Set"
   ]
  },
  {
   "cell_type": "code",
   "execution_count": 13,
   "id": "72fcb491546cd7b",
   "metadata": {},
   "outputs": [],
   "source": [
    "result_set = pd.read_csv(f\"{PARAM_RESULT_SET_PATH}\")"
   ]
  },
  {
   "cell_type": "markdown",
   "id": "e5242294817af058",
   "metadata": {},
   "source": [
    "## Filter the Result Set"
   ]
  },
  {
   "cell_type": "code",
   "execution_count": 14,
   "id": "df01584bb5c28272",
   "metadata": {},
   "outputs": [],
   "source": [
    "result_set_sorted = result_set.sort_values(by=PARAM_FILTER_COLUMN_NAME, ascending=False)\n",
    "result_set_filtered = result_set_sorted[:PARAM_K]"
   ]
  },
  {
   "cell_type": "markdown",
   "id": "aea26059f570d579",
   "metadata": {},
   "source": [
    "## Write the Filtered Result"
   ]
  },
  {
   "cell_type": "code",
   "execution_count": 15,
   "id": "62d1192219060f6a",
   "metadata": {},
   "outputs": [],
   "source": [
    "result_set_filtered.to_csv(f\"{STAGE_OUTPUT_PATH}/{PARAM_RESULT_OUT_FILENAME_NO_SUFFIX}_{os.path.basename(PARAM_RESULT_SET_PATH)}\", index=False)"
   ]
  }
 ],
 "metadata": {
  "kernelspec": {
   "display_name": "Python 3 (ipykernel)",
   "language": "python",
   "name": "python3"
  },
  "language_info": {
   "codemirror_mode": {
    "name": "ipython",
    "version": 3
   },
   "file_extension": ".py",
   "mimetype": "text/x-python",
   "name": "python",
   "nbconvert_exporter": "python",
   "pygments_lexer": "ipython3",
   "version": "3.10.14"
  }
 },
 "nbformat": 4,
 "nbformat_minor": 5
}
