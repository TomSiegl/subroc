{
 "cells": [
  {
   "cell_type": "markdown",
   "id": "b9ba954f34980343",
   "metadata": {},
   "source": [
    "# Compute Speedups for Runtime Measurements and Numbers of Visited Subgroups"
   ]
  },
  {
   "cell_type": "markdown",
   "id": "c71606acbcb933a6",
   "metadata": {},
   "source": [
    "## Default Values for Papermill Parameters"
   ]
  },
  {
   "cell_type": "code",
   "execution_count": null,
   "id": "initial_id",
   "metadata": {
    "ExecuteTime": {
     "end_time": "2024-07-03T15:07:57.663627Z",
     "start_time": "2024-07-03T15:07:57.646605Z"
    },
    "collapsed": true,
    "editable": true,
    "jupyter": {
     "outputs_hidden": true
    },
    "slideshow": {
     "slide_type": ""
    },
    "tags": [
     "parameters"
    ]
   },
   "outputs": [],
   "source": [
    "PARAM_RUNTIME_STATISTICS_PATH = \"../outputs/statistics_merged_result_set.csv\"\n",
    "PARAM_OUT_FILENAME_PREFIX = \"speedups_\"\n",
    "PARAM_RUNTIME_STATISTIC = \"time_mean\""
   ]
  },
  {
   "cell_type": "markdown",
   "id": "4594c4db8918611c",
   "metadata": {},
   "source": [
    "## Import and Set Parameters"
   ]
  },
  {
   "cell_type": "code",
   "execution_count": null,
   "id": "89d8866c280c829a",
   "metadata": {
    "ExecuteTime": {
     "end_time": "2024-07-03T15:07:59.205904Z",
     "start_time": "2024-07-03T15:07:57.667604Z"
    }
   },
   "outputs": [],
   "source": [
    "from subroc import util\n",
    "\n",
    "import pandas as pd\n",
    "import os\n",
    "\n",
    "# fill environment variables into params\n",
    "PARAM_RUNTIME_STATISTICS_PATH = util.prepend_experiment_output_path(PARAM_RUNTIME_STATISTICS_PATH)\n",
    "\n",
    "# get environment variables\n",
    "STAGE_OUTPUT_PATH = os.environ.get(\"STAGE_OUTPUT_PATH\", \"../outputs\")"
   ]
  },
  {
   "cell_type": "markdown",
   "id": "333c304ae30043d3",
   "metadata": {},
   "source": [
    "## Read the Runtime Statistics"
   ]
  },
  {
   "cell_type": "code",
   "execution_count": null,
   "id": "72fcb491546cd7b",
   "metadata": {
    "ExecuteTime": {
     "end_time": "2024-07-03T15:08:00.476746Z",
     "start_time": "2024-07-03T15:08:00.463295Z"
    }
   },
   "outputs": [],
   "source": [
    "statistics_df = pd.read_csv(f\"{PARAM_RUNTIME_STATISTICS_PATH}\")"
   ]
  },
  {
   "cell_type": "markdown",
   "id": "e5242294817af058",
   "metadata": {},
   "source": [
    "## Compute Speedups of Runtime Measurements and Numbers of Visited Subgroups"
   ]
  },
  {
   "cell_type": "code",
   "execution_count": null,
   "id": "df01584bb5c28272",
   "metadata": {
    "ExecuteTime": {
     "end_time": "2024-07-03T15:08:00.538797Z",
     "start_time": "2024-07-03T15:08:00.479723Z"
    }
   },
   "outputs": [],
   "source": [
    "df_groupby = statistics_df.groupby(\"optimistic_estimate\", as_index=False)\n",
    "speedups = []\n",
    "\n",
    "for i in df_groupby.groups.get(False):\n",
    "    row_no_oe = statistics_df.iloc[i]\n",
    "    row_with_oe = statistics_df[((statistics_df[\"qf_name\"] == row_no_oe[\"qf_name\"]) & (statistics_df[\"optimistic_estimate\"] != row_no_oe[\"optimistic_estimate\"]) & (statistics_df[\"depth\"] == row_no_oe[\"depth\"]) & (statistics_df[\"optimization_mode\"] == row_no_oe[\"optimization_mode\"]))]\n",
    "\n",
    "    time_mean_no_oe = row_no_oe[PARAM_RUNTIME_STATISTIC]\n",
    "    time_mean_with_oe = row_with_oe.iloc[0][PARAM_RUNTIME_STATISTIC]\n",
    "    time_speedup = time_mean_no_oe / time_mean_with_oe\n",
    "\n",
    "    num_visited_subgroups_no_oe = row_no_oe[\"num_visited_subgroups\"]\n",
    "    num_visited_subgroups_with_oe = row_with_oe.iloc[0][\"num_visited_subgroups\"]\n",
    "    num_visited_subgroups_speedup = num_visited_subgroups_with_oe / num_visited_subgroups_no_oe\n",
    "\n",
    "    speedups.append([row_no_oe[\"qf_name\"], row_no_oe[\"depth\"], row_no_oe[\"optimization_mode\"], time_speedup, num_visited_subgroups_speedup])\n",
    "\n",
    "speedups_df = pd.DataFrame(speedups, columns=[\"qf_name\", \"depth\", \"optimization_mode\", \"time_speedup\", \"num_visited_subgroups_speedup\"])\n",
    "\n",
    "print(speedups_df)"
   ]
  },
  {
   "cell_type": "markdown",
   "id": "aea26059f570d579",
   "metadata": {},
   "source": [
    "## Write the Result"
   ]
  },
  {
   "cell_type": "code",
   "execution_count": null,
   "id": "62d1192219060f6a",
   "metadata": {
    "ExecuteTime": {
     "end_time": "2024-07-03T15:08:00.554713Z",
     "start_time": "2024-07-03T15:08:00.542676Z"
    }
   },
   "outputs": [],
   "source": [
    "input_file_basename = os.path.basename(PARAM_RUNTIME_STATISTICS_PATH)\n",
    "speedups_df.to_csv(f\"{STAGE_OUTPUT_PATH}/{PARAM_OUT_FILENAME_PREFIX}{input_file_basename}\", index=False)"
   ]
  }
 ],
 "metadata": {
  "kernelspec": {
   "display_name": "Python 3 (ipykernel)",
   "language": "python",
   "name": "python3"
  },
  "language_info": {
   "codemirror_mode": {
    "name": "ipython",
    "version": 3
   },
   "file_extension": ".py",
   "mimetype": "text/x-python",
   "name": "python",
   "nbconvert_exporter": "python",
   "pygments_lexer": "ipython3",
   "version": "3.10.14"
  }
 },
 "nbformat": 4,
 "nbformat_minor": 5
}
