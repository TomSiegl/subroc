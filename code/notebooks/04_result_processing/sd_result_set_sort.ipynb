{
 "cells": [
  {
   "cell_type": "markdown",
   "id": "acc536435111c881",
   "metadata": {},
   "source": [
    "# Sort DataFrame from .csv File and Write it to a New .csv File"
   ]
  },
  {
   "cell_type": "markdown",
   "id": "7f398c8ea9582d5c",
   "metadata": {},
   "source": [
    "## Default Values for Papermill Parameters"
   ]
  },
  {
   "cell_type": "code",
   "execution_count": null,
   "id": "initial_id",
   "metadata": {
    "collapsed": true,
    "editable": true,
    "jupyter": {
     "outputs_hidden": true
    },
    "slideshow": {
     "slide_type": ""
    },
    "tags": [
     "parameters"
    ]
   },
   "outputs": [],
   "source": [
    "PARAM_SORT_COLUMN_NAME = \"interestingness\"\n",
    "PARAM_RESULT_IN_PATH = \"../outputs/result_set_groupby_sd_result_set_average_ranking_loss.csv\"\n",
    "PARAM_RESULT_OUT_FILENAME = None"
   ]
  },
  {
   "cell_type": "markdown",
   "id": "8f1d9a00709c4abc",
   "metadata": {},
   "source": [
    "## Import and Set Parameters"
   ]
  },
  {
   "cell_type": "code",
   "execution_count": null,
   "id": "3ccc81bbe769875b",
   "metadata": {},
   "outputs": [],
   "source": [
    "from subroc import util\n",
    "import pandas as pd\n",
    "import os\n",
    "\n",
    "# fill environment variables into params\n",
    "PARAM_RESULT_IN_PATH = util.prepend_experiment_output_path(PARAM_RESULT_IN_PATH)\n",
    "\n",
    "if PARAM_RESULT_OUT_FILENAME is None:\n",
    "    PARAM_RESULT_OUT_FILENAME = f\"sorted_{os.path.basename(PARAM_RESULT_IN_PATH)}\"\n",
    "\n",
    "# get environment variables\n",
    "STAGE_OUTPUT_PATH = os.environ.get('STAGE_OUTPUT_PATH', '../outputs')"
   ]
  },
  {
   "cell_type": "markdown",
   "id": "6fb1c40a8478bcd",
   "metadata": {},
   "source": [
    "## Read the Result Set"
   ]
  },
  {
   "cell_type": "code",
   "execution_count": null,
   "id": "618fa82716296473",
   "metadata": {},
   "outputs": [],
   "source": [
    "result_set = pd.read_csv(f\"{PARAM_RESULT_IN_PATH}\")"
   ]
  },
  {
   "cell_type": "markdown",
   "id": "1c99e235db779354",
   "metadata": {},
   "source": [
    "\n",
    "## Sort the Result Sets"
   ]
  },
  {
   "cell_type": "code",
   "execution_count": null,
   "id": "ad8c1d27948983e7",
   "metadata": {},
   "outputs": [],
   "source": [
    "result_set_sorted = result_set.sort_values(by=PARAM_SORT_COLUMN_NAME, ascending=False)"
   ]
  },
  {
   "cell_type": "markdown",
   "id": "4354057a5386539c",
   "metadata": {},
   "source": [
    "## Write the Sorted Result"
   ]
  },
  {
   "cell_type": "code",
   "execution_count": null,
   "id": "91ebbe7d565397a3",
   "metadata": {},
   "outputs": [],
   "source": [
    "result_set_sorted.to_csv(f\"{STAGE_OUTPUT_PATH}/{PARAM_RESULT_OUT_FILENAME}\", index=False)"
   ]
  }
 ],
 "metadata": {
  "kernelspec": {
   "display_name": "Python 3 (ipykernel)",
   "language": "python",
   "name": "python3"
  },
  "language_info": {
   "codemirror_mode": {
    "name": "ipython",
    "version": 3
   },
   "file_extension": ".py",
   "mimetype": "text/x-python",
   "name": "python",
   "nbconvert_exporter": "python",
   "pygments_lexer": "ipython3",
   "version": "3.10.13"
  }
 },
 "nbformat": 4,
 "nbformat_minor": 5
}
