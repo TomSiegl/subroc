{
 "cells": [
  {
   "cell_type": "markdown",
   "id": "b9ba954f34980343",
   "metadata": {},
   "source": [
    "# Augment a Subgroup Discovery Result Set with Metric Values for each Subgroup"
   ]
  },
  {
   "cell_type": "markdown",
   "id": "c71606acbcb933a6",
   "metadata": {},
   "source": [
    "## Default Values for Papermill Parameters"
   ]
  },
  {
   "cell_type": "code",
   "execution_count": 1,
   "id": "initial_id",
   "metadata": {
    "collapsed": true,
    "editable": true,
    "jupyter": {
     "outputs_hidden": true
    },
    "slideshow": {
     "slide_type": ""
    },
    "tags": [
     "parameters"
    ]
   },
   "outputs": [],
   "source": [
    "PARAM_RESULT_SET_PATH = \"../outputs/sd_result_set_average_ranking_loss.csv\"\n",
    "PARAM_RESULT_OUT_FILENAME_NO_SUFFIX = \"with_empty_pattern\"\n",
    "PARAM_INTERESTINGNESS_MEASURE_PATH = \"../outputs/interestingness_measure.pickle\"\n",
    "PARAM_DATA_IN_PATH = \"../../data\"\n",
    "PARAM_MODELS_IN_PATH = \"../../models\"\n",
    "\n",
    "PARAM_DATASET_NAME = \"OpenML Adult\"\n",
    "PARAM_MODEL_NAME = \"sklearn_gaussian_nb_adult\"\n",
    "PARAM_FIXED_INTERESTINGNESS = None"
   ]
  },
  {
   "cell_type": "markdown",
   "id": "4594c4db8918611c",
   "metadata": {},
   "source": [
    "## Import and Set Parameters"
   ]
  },
  {
   "cell_type": "code",
   "execution_count": 2,
   "id": "89d8866c280c829a",
   "metadata": {},
   "outputs": [],
   "source": [
    "from subroc.model_serialization import to_ModelName\n",
    "from subroc.datasets.metadata import to_DatasetName\n",
    "from subroc.datasets.reader import DatasetReader, DatasetStage\n",
    "from subroc.quality_functions.soft_classifier_target import SoftClassifierTarget\n",
    "from subroc.util import create_subgroup\n",
    "from subroc import util\n",
    "\n",
    "import pandas as pd\n",
    "import pickle\n",
    "import os\n",
    "\n",
    "# fill environment variables into params\n",
    "PARAM_RESULT_SET_PATH = util.prepend_experiment_output_path(PARAM_RESULT_SET_PATH)\n",
    "PARAM_INTERESTINGNESS_MEASURE_PATH = util.prepend_experiment_output_path(PARAM_INTERESTINGNESS_MEASURE_PATH)\n",
    "PARAM_DATA_IN_PATH = util.prepend_experiment_output_path(PARAM_DATA_IN_PATH)\n",
    "PARAM_MODELS_IN_PATH = util.prepend_experiment_output_path(PARAM_MODELS_IN_PATH)\n",
    "\n",
    "# get environment variables\n",
    "STAGE_OUTPUT_PATH = os.environ.get(\"STAGE_OUTPUT_PATH\", \"../outputs\")\n",
    "\n",
    "# Dataset\n",
    "dataset_reader = DatasetReader(PARAM_DATA_IN_PATH)\n",
    "\n",
    "DATA_OUT_PATH = f\"{STAGE_OUTPUT_PATH}/data/processed\"\n",
    "if not os.path.exists(DATA_OUT_PATH):\n",
    "    os.makedirs(DATA_OUT_PATH)\n",
    "\n",
    "DATASET_NAME = to_DatasetName(PARAM_DATASET_NAME)\n",
    "\n",
    "if DATASET_NAME is None:\n",
    "    print(f\"dataset name '{PARAM_DATASET_NAME}' not supported.\")\n",
    "\n",
    "DATASET_STAGE = DatasetStage.PROCESSED_MODEL_PREDICTED\n",
    "\n",
    "# Model\n",
    "MODEL_NAME = to_ModelName(PARAM_MODEL_NAME)\n",
    "\n",
    "if MODEL_NAME is None:\n",
    "    print(f\"model name '{PARAM_MODEL_NAME}' not supported.\")"
   ]
  },
  {
   "cell_type": "markdown",
   "id": "4ffb5e70df90a9fe",
   "metadata": {},
   "source": [
    "## Read and Sort the Data"
   ]
  },
  {
   "cell_type": "code",
   "execution_count": 3,
   "id": "b22a92be02d03c97",
   "metadata": {},
   "outputs": [],
   "source": [
    "(train_data, test_data), dataset_meta = dataset_reader.read_dataset(DATASET_NAME, DATASET_STAGE)"
   ]
  },
  {
   "cell_type": "markdown",
   "id": "333c304ae30043d3",
   "metadata": {},
   "source": [
    "## Read the Result Set"
   ]
  },
  {
   "cell_type": "code",
   "execution_count": 4,
   "id": "72fcb491546cd7b",
   "metadata": {},
   "outputs": [],
   "source": [
    "result_set = pd.read_csv(f\"{PARAM_RESULT_SET_PATH}\")"
   ]
  },
  {
   "cell_type": "markdown",
   "id": "4444510a453d8fc8",
   "metadata": {},
   "source": [
    "## Read the Interestingness Measure"
   ]
  },
  {
   "cell_type": "code",
   "execution_count": 5,
   "id": "d128fa1c2e741a3d",
   "metadata": {},
   "outputs": [],
   "source": [
    "with open(PARAM_INTERESTINGNESS_MEASURE_PATH, \"rb\") as file:\n",
    "    QF = pickle.load(file)"
   ]
  },
  {
   "cell_type": "markdown",
   "id": "e5242294817af058",
   "metadata": {},
   "source": [
    "## Add the Empty Pattern to the Result Set"
   ]
  },
  {
   "cell_type": "code",
   "execution_count": 6,
   "id": "df01584bb5c28272",
   "metadata": {},
   "outputs": [],
   "source": [
    "# create the pysubgroup object for the empty pattern with a representation for the dataset\n",
    "sel_conjunction = util.from_str_Conjunction(\"Dataset\")\n",
    "subgroup = create_subgroup(test_data, sel_conjunction.selectors)\n",
    "\n",
    "target = SoftClassifierTarget(dataset_meta.gt_name, dataset_meta.score_name)\n",
    "\n",
    "statistics = QF.calculate_statistics(subgroup, target, test_data)\n",
    "interestingness = QF.evaluate(subgroup, target, test_data, statistics)\n",
    "\n",
    "if PARAM_FIXED_INTERESTINGNESS is not None:\n",
    "    interestingness = PARAM_FIXED_INTERESTINGNESS\n",
    "\n",
    "empty_pattern_row = {\"interestingness\": interestingness, \"pattern\": \"Dataset\"}\n",
    "\n",
    "# order is important: overwrite None values with the values in empty_pattern_row, where possible\n",
    "empty_pattern_row = {column: None for column in result_set.columns.values} | empty_pattern_row\n",
    "\n",
    "result_set = pd.concat([result_set, pd.DataFrame(empty_pattern_row, index=[0])], ignore_index=True)"
   ]
  },
  {
   "cell_type": "markdown",
   "id": "aea26059f570d579",
   "metadata": {},
   "source": [
    "## Write the Augmentation Result"
   ]
  },
  {
   "cell_type": "code",
   "execution_count": 7,
   "id": "62d1192219060f6a",
   "metadata": {},
   "outputs": [],
   "source": [
    "result_set.to_csv(f\"{STAGE_OUTPUT_PATH}/{PARAM_RESULT_OUT_FILENAME_NO_SUFFIX}_{os.path.basename(PARAM_RESULT_SET_PATH)}\", index=False)"
   ]
  }
 ],
 "metadata": {
  "kernelspec": {
   "display_name": "Python 3 (ipykernel)",
   "language": "python",
   "name": "python3"
  },
  "language_info": {
   "codemirror_mode": {
    "name": "ipython",
    "version": 3
   },
   "file_extension": ".py",
   "mimetype": "text/x-python",
   "name": "python",
   "nbconvert_exporter": "python",
   "pygments_lexer": "ipython3",
   "version": "3.10.14"
  }
 },
 "nbformat": 4,
 "nbformat_minor": 5
}
