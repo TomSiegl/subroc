{
 "cells": [
  {
   "cell_type": "markdown",
   "id": "b9ba954f34980343",
   "metadata": {},
   "source": [
    "# Compute Statistics over Runtime Measurements"
   ]
  },
  {
   "cell_type": "markdown",
   "id": "c71606acbcb933a6",
   "metadata": {},
   "source": [
    "## Default Values for Papermill Parameters"
   ]
  },
  {
   "cell_type": "code",
   "execution_count": 6,
   "id": "initial_id",
   "metadata": {
    "ExecuteTime": {
     "end_time": "2024-07-03T15:07:57.663627Z",
     "start_time": "2024-07-03T15:07:57.646605Z"
    },
    "collapsed": true,
    "editable": true,
    "jupyter": {
     "outputs_hidden": true
    },
    "slideshow": {
     "slide_type": ""
    },
    "tags": [
     "parameters"
    ]
   },
   "outputs": [],
   "source": [
    "PARAM_MEASUREMENTS_PATH = \"../outputs/merged_result_set.csv\"\n",
    "PARAM_OUT_FILENAME_PREFIX = \"statistics_\""
   ]
  },
  {
   "cell_type": "markdown",
   "id": "4594c4db8918611c",
   "metadata": {},
   "source": [
    "## Import and Set Parameters"
   ]
  },
  {
   "cell_type": "code",
   "execution_count": null,
   "id": "89d8866c280c829a",
   "metadata": {
    "ExecuteTime": {
     "end_time": "2024-07-03T15:07:59.205904Z",
     "start_time": "2024-07-03T15:07:57.667604Z"
    }
   },
   "outputs": [],
   "source": [
    "from subroc import util\n",
    "\n",
    "import pandas as pd\n",
    "import os\n",
    "\n",
    "# fill environment variables into params\n",
    "PARAM_MEASUREMENTS_PATH = util.prepend_experiment_output_path(PARAM_MEASUREMENTS_PATH)\n",
    "\n",
    "# get environment variables\n",
    "STAGE_OUTPUT_PATH = os.environ.get(\"STAGE_OUTPUT_PATH\", \"../outputs\")"
   ]
  },
  {
   "cell_type": "markdown",
   "id": "333c304ae30043d3",
   "metadata": {},
   "source": [
    "## Read the Measurements"
   ]
  },
  {
   "cell_type": "code",
   "execution_count": 8,
   "id": "72fcb491546cd7b",
   "metadata": {
    "ExecuteTime": {
     "end_time": "2024-07-03T15:08:00.476746Z",
     "start_time": "2024-07-03T15:08:00.463295Z"
    }
   },
   "outputs": [],
   "source": [
    "runtimes_df = pd.read_csv(f\"{PARAM_MEASUREMENTS_PATH}\")"
   ]
  },
  {
   "cell_type": "markdown",
   "id": "e5242294817af058",
   "metadata": {},
   "source": [
    "## Compute Statistics of Runtime Measurements"
   ]
  },
  {
   "cell_type": "code",
   "execution_count": null,
   "id": "df01584bb5c28272",
   "metadata": {
    "ExecuteTime": {
     "end_time": "2024-07-03T15:08:00.538797Z",
     "start_time": "2024-07-03T15:08:00.479723Z"
    }
   },
   "outputs": [],
   "source": [
    "groupby_columns = [\"qf_name\", \"optimistic_estimate\", \"depth\", \"optimization_mode\"]\n",
    "df_groupby = runtimes_df.groupby(groupby_columns, as_index=False)\n",
    "\n",
    "time_means = df_groupby[\"time\"].mean()\n",
    "time_medians = df_groupby[\"time\"].median()\n",
    "time_mins = df_groupby[\"time\"].min()\n",
    "time_maxs = df_groupby[\"time\"].max()\n",
    "time_stds = df_groupby[\"time\"].std()\n",
    "\n",
    "time_statistics_df = time_means\n",
    "time_statistics_df.rename(columns={\"time\": \"time_mean\"}, inplace=True)\n",
    "time_statistics_df[\"time_median\"] = time_medians[\"time\"]\n",
    "time_statistics_df[\"time_min\"] = time_mins[\"time\"]\n",
    "time_statistics_df[\"time_max\"] = time_maxs[\"time\"]\n",
    "time_statistics_df[\"time_std\"] = time_stds[\"time\"]\n",
    "time_statistics_df[\"num_visited_subgroups\"] = df_groupby[\"num_visited_subgroups\"].mean()[\"num_visited_subgroups\"]"
   ]
  },
  {
   "cell_type": "markdown",
   "id": "aea26059f570d579",
   "metadata": {},
   "source": [
    "## Write the Augmentation Result"
   ]
  },
  {
   "cell_type": "code",
   "execution_count": 10,
   "id": "62d1192219060f6a",
   "metadata": {
    "ExecuteTime": {
     "end_time": "2024-07-03T15:08:00.554713Z",
     "start_time": "2024-07-03T15:08:00.542676Z"
    }
   },
   "outputs": [],
   "source": [
    "input_file_basename = os.path.basename(PARAM_MEASUREMENTS_PATH)\n",
    "time_statistics_df.to_csv(f\"{STAGE_OUTPUT_PATH}/{PARAM_OUT_FILENAME_PREFIX}{input_file_basename}\", index=False)"
   ]
  }
 ],
 "metadata": {
  "kernelspec": {
   "display_name": "Python 3 (ipykernel)",
   "language": "python",
   "name": "python3"
  },
  "language_info": {
   "codemirror_mode": {
    "name": "ipython",
    "version": 3
   },
   "file_extension": ".py",
   "mimetype": "text/x-python",
   "name": "python",
   "nbconvert_exporter": "python",
   "pygments_lexer": "ipython3",
   "version": "3.10.14"
  }
 },
 "nbformat": 4,
 "nbformat_minor": 5
}
