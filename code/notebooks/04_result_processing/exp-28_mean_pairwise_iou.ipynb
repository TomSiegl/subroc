{
 "cells": [
  {
   "cell_type": "markdown",
   "id": "acc536435111c881",
   "metadata": {},
   "source": [
    "# Compute the Mean Pairwise IoU of Subgroups in the Same Result Set From a Single .csv File"
   ]
  },
  {
   "cell_type": "markdown",
   "id": "7f398c8ea9582d5c",
   "metadata": {},
   "source": [
    "## Default Values for Papermill Parameters"
   ]
  },
  {
   "cell_type": "code",
   "execution_count": 15,
   "id": "initial_id",
   "metadata": {
    "collapsed": true,
    "editable": true,
    "jupyter": {
     "outputs_hidden": true
    },
    "slideshow": {
     "slide_type": ""
    },
    "tags": [
     "parameters"
    ]
   },
   "outputs": [],
   "source": [
    "PARAM_RESULT_IN_PATH = \"../outputs/merged_result_set.csv\"\n",
    "PARAM_RESULT_OUT_FILENAME = \"mean_pairwise_ious.csv\"\n",
    "PARAM_DATA_IN_PATH = \"../../data\"\n",
    "PARAM_MODELS_IN_PATH = \"../../models\"\n",
    "\n",
    "PARAM_GROUPBY_COLUMN_NAME = \"pre_merge_filename\"\n",
    "PARAM_DATASET_NAME = \"OpenML Adult\"\n",
    "PARAM_MODEL_NAME = \"sklearn_gaussian_nb_adult_4_splits\""
   ]
  },
  {
   "cell_type": "markdown",
   "id": "8f1d9a00709c4abc",
   "metadata": {},
   "source": [
    "## Import and Set Parameters"
   ]
  },
  {
   "cell_type": "code",
   "execution_count": null,
   "id": "3ccc81bbe769875b",
   "metadata": {},
   "outputs": [],
   "source": [
    "import pandas as pd\n",
    "import numpy as np\n",
    "import os\n",
    "\n",
    "from subroc.datasets.metadata import to_DatasetName\n",
    "from subroc.datasets.reader import DatasetReader, DatasetStage\n",
    "from subroc.model_serialization import deserialize\n",
    "from subroc import util\n",
    "\n",
    "# fill environment variables into params\n",
    "PARAM_RESULT_IN_PATH = util.prepend_experiment_output_path(PARAM_RESULT_IN_PATH)\n",
    "PARAM_DATA_IN_PATH = util.prepend_experiment_output_path(PARAM_DATA_IN_PATH)\n",
    "PARAM_MODELS_IN_PATH = util.prepend_experiment_output_path(PARAM_MODELS_IN_PATH)\n",
    "\n",
    "# get environment variables\n",
    "STAGE_OUTPUT_PATH = os.environ.get('STAGE_OUTPUT_PATH', '../outputs')\n",
    "\n",
    "# Dataset\n",
    "dataset_reader = DatasetReader(PARAM_DATA_IN_PATH)\n",
    "\n",
    "DATASET_NAME = to_DatasetName(PARAM_DATASET_NAME)\n",
    "\n",
    "if DATASET_NAME is None:\n",
    "    print(f\"dataset name '{PARAM_DATASET_NAME}' not supported.\")\n",
    "\n",
    "DATASET_STAGE = DatasetStage.PROCESSED_MODEL_PREDICTED\n",
    "\n",
    "# Model\n",
    "model = deserialize(PARAM_MODELS_IN_PATH, PARAM_MODEL_NAME)"
   ]
  },
  {
   "cell_type": "markdown",
   "id": "ba7fa114",
   "metadata": {},
   "source": [
    "## Read the Data"
   ]
  },
  {
   "cell_type": "code",
   "execution_count": 17,
   "id": "aacce30e",
   "metadata": {},
   "outputs": [],
   "source": [
    "# read data\n",
    "(train_data, test_data), dataset_meta = dataset_reader.read_dataset(DATASET_NAME, DATASET_STAGE)"
   ]
  },
  {
   "cell_type": "markdown",
   "id": "6fb1c40a8478bcd",
   "metadata": {},
   "source": [
    "## Read the Result Set"
   ]
  },
  {
   "cell_type": "code",
   "execution_count": 18,
   "id": "618fa82716296473",
   "metadata": {},
   "outputs": [],
   "source": [
    "result_set = pd.read_csv(f\"{PARAM_RESULT_IN_PATH}\")"
   ]
  },
  {
   "cell_type": "markdown",
   "id": "1c99e235db779354",
   "metadata": {},
   "source": [
    "## Group the Result Sets"
   ]
  },
  {
   "cell_type": "code",
   "execution_count": 19,
   "id": "ad8c1d27948983e7",
   "metadata": {},
   "outputs": [],
   "source": [
    "result_set_groupby = result_set.groupby(PARAM_GROUPBY_COLUMN_NAME)\n",
    "result_set_group_keys = result_set_groupby.groups.keys()"
   ]
  },
  {
   "cell_type": "markdown",
   "id": "4354057a5386539c",
   "metadata": {},
   "source": [
    "## Compute the Mean Pairwise IoU for Each Group"
   ]
  },
  {
   "cell_type": "code",
   "execution_count": null,
   "id": "91ebbe7d565397a3",
   "metadata": {},
   "outputs": [],
   "source": [
    "result_set.drop(columns=[PARAM_GROUPBY_COLUMN_NAME], inplace=True)\n",
    "\n",
    "iou_dicts = []\n",
    "\n",
    "for result_set_group_key in result_set_group_keys:\n",
    "    result_set_group = result_set_groupby.groups[result_set_group_key]\n",
    "\n",
    "    group_df = result_set.iloc[result_set_group]\n",
    "    group_df = group_df[group_df[\"pattern\"] != \"Dataset\"]  # drop the empty pattern\n",
    "\n",
    "    group_pairwise_ious = util.mean_pairwise_iou(group_df, test_data)\n",
    "    \n",
    "    iou_dicts.append({PARAM_GROUPBY_COLUMN_NAME: result_set_group_key, \"iou\": np.mean(group_pairwise_ious)})\n",
    "\n",
    "iou_df = pd.DataFrame(iou_dicts)\n",
    "iou_df"
   ]
  },
  {
   "cell_type": "markdown",
   "id": "3b7e0ba3",
   "metadata": {},
   "source": [
    "## Save the Result"
   ]
  },
  {
   "cell_type": "code",
   "execution_count": 21,
   "id": "b6d6d0a0",
   "metadata": {},
   "outputs": [],
   "source": [
    "iou_df.to_csv(f\"{STAGE_OUTPUT_PATH}/{PARAM_RESULT_OUT_FILENAME}\", index=False)"
   ]
  }
 ],
 "metadata": {
  "kernelspec": {
   "display_name": "subroc",
   "language": "python",
   "name": "python3"
  },
  "language_info": {
   "codemirror_mode": {
    "name": "ipython",
    "version": 3
   },
   "file_extension": ".py",
   "mimetype": "text/x-python",
   "name": "python",
   "nbconvert_exporter": "python",
   "pygments_lexer": "ipython3",
   "version": "3.10.14"
  }
 },
 "nbformat": 4,
 "nbformat_minor": 5
}
