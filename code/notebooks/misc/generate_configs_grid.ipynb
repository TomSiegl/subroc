{
 "cells": [
  {
   "cell_type": "markdown",
   "metadata": {},
   "source": [
    "# Create Configs with all Combinations of Given Value Lists"
   ]
  },
  {
   "cell_type": "markdown",
   "metadata": {},
   "source": [
    "## Default Values for Papermill Parameters"
   ]
  },
  {
   "cell_type": "code",
   "execution_count": null,
   "metadata": {
    "tags": [
     "parameters"
    ]
   },
   "outputs": [],
   "source": [
    "PARAM_BASE_CONFIG_FILENAME = \"../outputs/base_config.yaml\"\n",
    "PARAM_CONFIG_VARIABLES_FILENAME = \"../outputs/config_variables.yaml\"\n",
    "PARAM_CONFIG_VARIABLES_COUPLINGS_FILENAME = \"../outputs/config_variables_couplings.yaml\"\n",
    "PARAM_CONFIG_BASENAME_PREFIXES_FILENAME = \"../outputs/config_basename_prefixes.yaml\"\n",
    "PARAM_CONFIG_BASENAME_SUFFIXES_FILENAME = \"../outputs/config_basename_suffixes.yaml\"\n",
    "PARAM_CONFIG_OUT_PATH = \"../outputs\"\n",
    "PARAM_CONFIG_OUT_FILENAME_PREFIX = None"
   ]
  },
  {
   "cell_type": "markdown",
   "metadata": {},
   "source": [
    "## Import and Set Parameters"
   ]
  },
  {
   "cell_type": "code",
   "execution_count": null,
   "metadata": {},
   "outputs": [],
   "source": [
    "from subroc import util\n",
    "\n",
    "import yaml\n",
    "import itertools\n",
    "import numpy as np\n",
    "import os\n",
    "\n",
    "if PARAM_CONFIG_OUT_FILENAME_PREFIX is None:\n",
    "    PARAM_CONFIG_OUT_FILENAME_PREFIX = \"\"\n",
    "\n",
    "# fill environment variables into params\n",
    "PARAM_BASE_CONFIG_FILENAME = util.prepend_experiment_definition_path(PARAM_BASE_CONFIG_FILENAME)\n",
    "PARAM_CONFIG_VARIABLES_FILENAME = util.prepend_experiment_definition_path(PARAM_CONFIG_VARIABLES_FILENAME)\n",
    "PARAM_CONFIG_VARIABLES_COUPLINGS_FILENAME = util.prepend_experiment_definition_path(PARAM_CONFIG_VARIABLES_COUPLINGS_FILENAME)\n",
    "PARAM_CONFIG_BASENAME_PREFIXES_FILENAME = util.prepend_experiment_definition_path(PARAM_CONFIG_BASENAME_PREFIXES_FILENAME)\n",
    "PARAM_CONFIG_BASENAME_SUFFIXES_FILENAME = util.prepend_experiment_definition_path(PARAM_CONFIG_BASENAME_SUFFIXES_FILENAME)\n",
    "PARAM_CONFIG_OUT_PATH = util.prepend_experiment_definition_path(PARAM_CONFIG_OUT_PATH)\n",
    "\n",
    "STAGE_OUTPUT_PATH = os.environ.get(\"STAGE_OUTPUT_PATH\", \"../outputs\")"
   ]
  },
  {
   "cell_type": "markdown",
   "metadata": {},
   "source": [
    "## Read Base Config"
   ]
  },
  {
   "cell_type": "code",
   "execution_count": null,
   "metadata": {},
   "outputs": [],
   "source": [
    "with open(PARAM_BASE_CONFIG_FILENAME) as base_config_file:\n",
    "    base_config = yaml.load(base_config_file, Loader=yaml.FullLoader)\n",
    "\n",
    "print(\"base_config =\", base_config)"
   ]
  },
  {
   "cell_type": "markdown",
   "metadata": {},
   "source": [
    "## Read Config Variables"
   ]
  },
  {
   "cell_type": "code",
   "execution_count": null,
   "metadata": {},
   "outputs": [],
   "source": [
    "with open(PARAM_CONFIG_VARIABLES_FILENAME) as config_variables_file:\n",
    "    config_variables = yaml.load(config_variables_file, Loader=yaml.FullLoader)\n",
    "\n",
    "print(\"config_variables =\", config_variables)"
   ]
  },
  {
   "cell_type": "markdown",
   "metadata": {},
   "source": [
    "## Read Config Variables Couplings"
   ]
  },
  {
   "cell_type": "code",
   "execution_count": null,
   "metadata": {},
   "outputs": [],
   "source": [
    "with open(PARAM_CONFIG_VARIABLES_COUPLINGS_FILENAME) as config_variables_file:\n",
    "    config_variables_couplings = yaml.load(config_variables_file, Loader=yaml.FullLoader)\n",
    "\n",
    "if config_variables_couplings is None:\n",
    "    config_variables_couplings = []\n",
    "\n",
    "print(\"config_variables_couplings =\", config_variables_couplings)"
   ]
  },
  {
   "cell_type": "markdown",
   "metadata": {},
   "source": [
    "## Prepare Parameter Data Structure Including Couplings\n",
    "### compute list of lists of dicts for the couplings: inner lists contain coupled parameters with available values"
   ]
  },
  {
   "cell_type": "code",
   "execution_count": null,
   "metadata": {},
   "outputs": [],
   "source": [
    "variables_all_parameters = []\n",
    "all_coupled_variables = []\n",
    "\n",
    "# add the explicitly coupled parameters\n",
    "for coupled_parameters in config_variables_couplings:\n",
    "    all_coupled_variables += coupled_parameters\n",
    "    coupled_parameter_value_dicts = []\n",
    "\n",
    "    for coupled_value_index in range(len(config_variables[coupled_parameters[0]])):\n",
    "        coupled_parameter_value_dict = {}\n",
    "\n",
    "        for parameter in coupled_parameters:\n",
    "            coupled_parameter_value_dict[parameter] = config_variables[parameter][coupled_value_index]\n",
    "        \n",
    "        coupled_parameter_value_dicts.append(coupled_parameter_value_dict)\n",
    "    \n",
    "    variables_all_parameters.append(coupled_parameter_value_dicts)\n",
    "\n",
    "# add remaining parameters one by one to represent that they are not coupled\n",
    "for parameter in config_variables.keys():\n",
    "    if parameter in all_coupled_variables:\n",
    "        continue\n",
    "\n",
    "    parameter_value_dicts = []\n",
    "\n",
    "    for parameter_value in config_variables[parameter]:\n",
    "        parameter_value_dicts.append({parameter: parameter_value})\n",
    "    \n",
    "    variables_all_parameters.append(parameter_value_dicts)\n",
    "\n",
    "print(variables_all_parameters)\n",
    "print(\"number of combinations:\", \"*\".join([str(len(value_dicts)) for value_dicts in variables_all_parameters]), \"=\", np.prod([len(value_dicts) for value_dicts in variables_all_parameters]))"
   ]
  },
  {
   "cell_type": "markdown",
   "metadata": {},
   "source": [
    "## Read Config Basename Prefixes"
   ]
  },
  {
   "cell_type": "code",
   "execution_count": null,
   "metadata": {},
   "outputs": [],
   "source": [
    "with open(PARAM_CONFIG_BASENAME_PREFIXES_FILENAME) as config_basename_prefixes_file:\n",
    "    config_basename_prefixes = yaml.load(config_basename_prefixes_file, Loader=yaml.FullLoader)\n",
    "\n",
    "print(\"config_basename_prefixes =\", config_basename_prefixes)"
   ]
  },
  {
   "cell_type": "markdown",
   "metadata": {},
   "source": [
    "## Read Config Basename Suffixes"
   ]
  },
  {
   "cell_type": "code",
   "execution_count": null,
   "metadata": {},
   "outputs": [],
   "source": [
    "with open(PARAM_CONFIG_BASENAME_SUFFIXES_FILENAME) as config_basename_suffixes_file:\n",
    "    config_basename_suffixes = yaml.load(config_basename_suffixes_file, Loader=yaml.FullLoader)\n",
    "\n",
    "print(\"config_basename_suffixes =\", config_basename_suffixes)"
   ]
  },
  {
   "cell_type": "markdown",
   "metadata": {},
   "source": [
    "## Merge Prefixes and Suffixes to a Single Data Structure"
   ]
  },
  {
   "cell_type": "code",
   "execution_count": null,
   "metadata": {},
   "outputs": [],
   "source": [
    "basename_pre_and_suffixes = {}\n",
    "\n",
    "for key, item in config_basename_prefixes.items():\n",
    "    basename_pre_and_suffixes[key] = {\"pre\": item, \"suf\": \"\"}\n",
    "\n",
    "for key, item in config_basename_suffixes.items():\n",
    "    current = basename_pre_and_suffixes[key]\n",
    "\n",
    "    if current is None:\n",
    "        current = {\"pre\": \"\"}\n",
    "    \n",
    "    current[\"suf\"] = item\n",
    "\n",
    "    basename_pre_and_suffixes[key] = current"
   ]
  },
  {
   "cell_type": "markdown",
   "metadata": {},
   "source": [
    "## Write Config for Each Parameter Value Combination"
   ]
  },
  {
   "cell_type": "code",
   "execution_count": null,
   "metadata": {},
   "outputs": [],
   "source": [
    "# use variables_all_parameters in itertools.product to get value combinations that respect the couplings\n",
    "for value_dicts in itertools.product(*variables_all_parameters):\n",
    "    combined_values_dict = {}\n",
    "\n",
    "    # extract parameter name-value pairs from the inner dicts for each value combination\n",
    "    for value_dict in value_dicts:\n",
    "        combined_values_dict |= value_dict\n",
    "\n",
    "    # add the current value combination to the base config\n",
    "    base_config |= combined_values_dict\n",
    "    \n",
    "    value_combination_string = \"_\".join([str(v) for v in combined_values_dict.values()])\n",
    "    \n",
    "    # add combination-based filenames to the base config (e.g. for output files)\n",
    "    for key, pre_and_suf in basename_pre_and_suffixes.items():\n",
    "        base_config[key] = pre_and_suf[\"pre\"] + value_combination_string + pre_and_suf[\"suf\"]\n",
    "\n",
    "    print(base_config)\n",
    "    \n",
    "    # save the complete config for this parameter value combination\n",
    "    # for the next stage\n",
    "    with open(f\"{PARAM_CONFIG_OUT_PATH}/{PARAM_CONFIG_OUT_FILENAME_PREFIX}{value_combination_string}.yaml\", \"w\") as outfile:\n",
    "        yaml.dump(base_config, outfile)\n",
    "\n",
    "    # for debugging also into the output dir\n",
    "    with open(f\"{STAGE_OUTPUT_PATH}/{PARAM_CONFIG_OUT_FILENAME_PREFIX}{value_combination_string}.yaml\", \"w\") as outfile:\n",
    "        yaml.dump(base_config, outfile)"
   ]
  }
 ],
 "metadata": {
  "kernelspec": {
   "display_name": "subroc",
   "language": "python",
   "name": "python3"
  },
  "language_info": {
   "codemirror_mode": {
    "name": "ipython",
    "version": 3
   },
   "file_extension": ".py",
   "mimetype": "text/x-python",
   "name": "python",
   "nbconvert_exporter": "python",
   "pygments_lexer": "ipython3",
   "version": "3.10.14"
  }
 },
 "nbformat": 4,
 "nbformat_minor": 2
}
