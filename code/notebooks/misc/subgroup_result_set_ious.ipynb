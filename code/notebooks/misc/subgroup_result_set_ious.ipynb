{
 "cells": [
  {
   "cell_type": "markdown",
   "metadata": {},
   "source": [
    "# Compute the IoUs of Each Subgroup in a Result Set with Each Subgroup in a List"
   ]
  },
  {
   "cell_type": "markdown",
   "metadata": {},
   "source": [
    "## Default Values for Papermill Parameters"
   ]
  },
  {
   "cell_type": "code",
   "execution_count": null,
   "metadata": {
    "tags": [
     "parameters"
    ]
   },
   "outputs": [],
   "source": [
    "PARAM_DATA_IN_PATH = \"../../data\"\n",
    "PARAM_DATASET_NAME = \"OpenML Adult\"\n",
    "\n",
    "PARAM_PATTERNS_IN_PATH = \"../outputs/0.7_0.8_picked_pattern.csv\"\n",
    "PARAM_RESULT_SET_IN_PATH = \"../outputs/sd_result_set_average_ranking_loss.csv\"\n",
    "PARAM_RESULT_SET_PATTERNS_COLUMN = \"pattern\"\n",
    "PARAM_RESULT_SET_SORT_COLUMN = \"interestingness\"\n",
    "PARAM_TOP_K = 10\n",
    "\n",
    "PARAM_SEED = 0\n",
    "\n",
    "DUMMY_PARAM_CLASS_BALANCE_WEIGHT = 0\n",
    "DUMMY_PARAM_COVER_SIZE_WEIGHT = 0\n",
    "DUMMY_PARAM_ENABLE_GENERALIZATION_AWARENESS = \"False\"\n",
    "DUMMY_PARAM_MAX_SIZE_FRACTION = 0.006\n",
    "DUMMY_PARAM_MIN_SIZE_FRACTION = 0.004\n",
    "DUMMY_PARAM_QF = \"prc_auc_score\""
   ]
  },
  {
   "cell_type": "markdown",
   "metadata": {},
   "source": [
    "## Import and Set Parameters"
   ]
  },
  {
   "cell_type": "code",
   "execution_count": null,
   "metadata": {},
   "outputs": [],
   "source": [
    "from subroc.datasets.metadata import to_DatasetName\n",
    "from subroc.datasets.reader import DatasetReader, DatasetStage\n",
    "from subroc import util\n",
    "\n",
    "import matplotlib.pyplot as plt\n",
    "import pandas as pd\n",
    "import numpy as np\n",
    "import os\n",
    "\n",
    "PARAM_DATA_IN_PATH = util.prepend_experiment_output_path(PARAM_DATA_IN_PATH)\n",
    "PARAM_PATTERNS_IN_PATH = util.prepend_experiment_output_path(PARAM_PATTERNS_IN_PATH)\n",
    "PARAM_RESULT_SET_IN_PATH = util.prepend_experiment_output_path(PARAM_RESULT_SET_IN_PATH)\n",
    "\n",
    "STAGE_OUTPUT_PATH = os.environ.get(\"STAGE_OUTPUT_PATH\", \"../outputs\")\n",
    "\n",
    "num_figures = 4\n",
    "venue = \"ECAI Main Track\"\n",
    "linewidth = {\"ECAI Main Track\": 3.40457}[venue] # latex linewidth in inch, tested using the line \"linewidth: \\printinunitsof{in}\\prntlen{\\linewidth}\"\n",
    "fontsize = {\"ECAI Main Track\": 9}[venue]  # tested using the line \"fontsize: \\makeatletter \\f@size \\makeatother\"\n",
    "figure_padding = 0.02\n",
    "estimated_width_ylabel_yticks = 0.523618\n",
    "figsize = (linewidth - estimated_width_ylabel_yticks)/num_figures - figure_padding*2\n",
    "\n",
    "plt.rcParams.update({\n",
    "    \"text.usetex\": True,\n",
    "    \"font.family\": \"Computer Modern Roman\",\n",
    "    \"font.size\": fontsize,\n",
    "    \"figure.figsize\": [figsize, figsize],\n",
    "})\n",
    "\n",
    "# Dataset\n",
    "dataset_reader = DatasetReader(PARAM_DATA_IN_PATH)\n",
    "\n",
    "DATASET_NAME = to_DatasetName(PARAM_DATASET_NAME)\n",
    "\n",
    "if DATASET_NAME is None:\n",
    "    print(f\"dataset name '{PARAM_DATASET_NAME}' not supported.\")\n",
    "\n",
    "DATASET_STAGE = DatasetStage.PROCESSED_PERMUTED_MODEL_PREDICTED\n",
    "\n",
    "# read data and preprocess it for the model\n",
    "(_, test_data), dataset_meta = dataset_reader.read_dataset(DATASET_NAME, DATASET_STAGE)\n",
    "\n",
    "reference_patterns = pd.read_csv(PARAM_PATTERNS_IN_PATH, names=[PARAM_RESULT_SET_PATTERNS_COLUMN], header=None)\n",
    "\n",
    "# read the result set\n",
    "try:\n",
    "    result_set = pd.read_csv(f\"{PARAM_RESULT_SET_IN_PATH}\")\n",
    "except pd.errors.EmptyDataError:\n",
    "    result_set = pd.DataFrame()\n",
    "\n",
    "rng = np.random.default_rng(PARAM_SEED)"
   ]
  },
  {
   "cell_type": "markdown",
   "metadata": {},
   "source": [
    "## Sort Result Set"
   ]
  },
  {
   "cell_type": "code",
   "execution_count": null,
   "metadata": {},
   "outputs": [],
   "source": [
    "if PARAM_RESULT_SET_SORT_COLUMN is not None:\n",
    "    result_set.sort_values(by=PARAM_RESULT_SET_SORT_COLUMN, inplace=True, ascending=False)"
   ]
  },
  {
   "cell_type": "markdown",
   "metadata": {},
   "source": [
    "## Compute IoUs"
   ]
  },
  {
   "cell_type": "code",
   "execution_count": null,
   "metadata": {},
   "outputs": [],
   "source": [
    "from subroc.util import create_subgroup, from_str_Conjunction, iou\n",
    "\n",
    "\n",
    "def get_plot_title():\n",
    "    if not util.str_to_bool(DUMMY_PARAM_ENABLE_GENERALIZATION_AWARENESS):\n",
    "        return \"baseline\"\n",
    "    \n",
    "    return fr\"$\\alpha={DUMMY_PARAM_COVER_SIZE_WEIGHT}, \\beta={DUMMY_PARAM_CLASS_BALANCE_WEIGHT}$\"\n",
    "\n",
    "\n",
    "for reference_idx, reference_row in reference_patterns.iterrows():\n",
    "    ious = []\n",
    "    for result_set_idx, result_set_row in result_set[:PARAM_TOP_K].iterrows():\n",
    "        reference_pattern = reference_row[PARAM_RESULT_SET_PATTERNS_COLUMN]\n",
    "        result_set_pattern = result_set_row[PARAM_RESULT_SET_PATTERNS_COLUMN]\n",
    "\n",
    "        print(f\"################ {reference_pattern} --- VS --- {result_set_pattern} ################\")\n",
    "\n",
    "        reference_subgroup = create_subgroup(test_data, from_str_Conjunction(reference_pattern).selectors)\n",
    "        reference_subgroup_idx = np.nonzero(reference_subgroup.representation)[0]\n",
    "\n",
    "        result_set_subgroup = create_subgroup(test_data, from_str_Conjunction(result_set_pattern).selectors)\n",
    "        result_set_subgroup_idx = np.nonzero(result_set_subgroup.representation)[0]\n",
    "\n",
    "        ious.append(iou(set(reference_subgroup_idx), set(result_set_subgroup_idx)))\n",
    "        print(f\"IoU = {ious[-1]}\")\n",
    "        print()\n",
    "    \n",
    "    xs = list(range(1, len(ious)+1))\n",
    "\n",
    "    plt.step(xs, ious, where=\"mid\", c=\"black\", linewidth=1)\n",
    "    plt.scatter(xs, ious, c=\"black\", s=30, marker=\"|\", linewidths=1)\n",
    "    plt.ylim(0, 1)\n",
    "\n",
    "    plt.ylabel(\"IoU\")\n",
    "\n",
    "    plt.xlabel(\"Rank\")\n",
    "    if len(xs) < 10:\n",
    "        plt.xticks(xs, xs)\n",
    "    else:\n",
    "        plt.xticks(xs[::2], xs[::2])\n",
    "    plt.gca().set_position([0, 0, 1, 1])\n",
    "    plt.savefig(f\"{STAGE_OUTPUT_PATH}/{os.path.basename(PARAM_DATA_IN_PATH)}_result_set_ious.pdf\", bbox_inches=\"tight\", pad_inches=figure_padding)\n",
    "    "
   ]
  }
 ],
 "metadata": {
  "kernelspec": {
   "display_name": "subroc",
   "language": "python",
   "name": "python3"
  },
  "language_info": {
   "codemirror_mode": {
    "name": "ipython",
    "version": 3
   },
   "file_extension": ".py",
   "mimetype": "text/x-python",
   "name": "python",
   "nbconvert_exporter": "python",
   "pygments_lexer": "ipython3",
   "version": "3.10.16"
  }
 },
 "nbformat": 4,
 "nbformat_minor": 2
}
