{
 "cells": [
  {
   "cell_type": "markdown",
   "metadata": {},
   "source": [
    "# Manipulate Given Columns in Given Subgroups"
   ]
  },
  {
   "cell_type": "markdown",
   "metadata": {},
   "source": [
    "## Default Values for Papermill Parameters"
   ]
  },
  {
   "cell_type": "code",
   "execution_count": null,
   "metadata": {
    "tags": [
     "parameters"
    ]
   },
   "outputs": [],
   "source": [
    "PARAM_DATA_IN_PATH = \"../../data\"\n",
    "PARAM_DATA_OUT_PATH = \"data/0.7_0.8\"\n",
    "PARAM_DATASET_NAME = \"OpenML Adult\"\n",
    "\n",
    "PARAM_PATTERNS_IN_PATH = \"../outputs/0.7_0.8_picked_pattern.csv\"\n",
    "\n",
    "PARAM_PERMUTATION_COLUMNS = [\"score\"]  # [\"class\"]\n",
    "PARAM_INJECTION_PROCEDURE = \"permute\"  # \"negate\"\n",
    "\n",
    "PARAM_SEED = 0"
   ]
  },
  {
   "cell_type": "markdown",
   "metadata": {},
   "source": [
    "## Import and Set Parameters"
   ]
  },
  {
   "cell_type": "code",
   "execution_count": null,
   "metadata": {},
   "outputs": [],
   "source": [
    "from subroc.datasets.metadata import to_DatasetName\n",
    "from subroc.datasets.reader import DatasetReader, DatasetStage\n",
    "from subroc import util\n",
    "\n",
    "import pandas as pd\n",
    "import numpy as np\n",
    "import os\n",
    "\n",
    "PARAM_DATA_IN_PATH = util.prepend_experiment_output_path(PARAM_DATA_IN_PATH)\n",
    "PARAM_PATTERNS_IN_PATH = util.prepend_experiment_output_path(PARAM_PATTERNS_IN_PATH)\n",
    "\n",
    "# get environment variables\n",
    "STAGE_OUTPUT_PATH = os.environ.get(\"STAGE_OUTPUT_PATH\", \"../..\")\n",
    "\n",
    "# Dataset\n",
    "dataset_reader = DatasetReader(PARAM_DATA_IN_PATH)\n",
    "\n",
    "DATA_OUT_PATH = f\"{STAGE_OUTPUT_PATH}/{PARAM_DATA_OUT_PATH}\"\n",
    "if not os.path.exists(DATA_OUT_PATH):\n",
    "    os.makedirs(DATA_OUT_PATH)\n",
    "\n",
    "DATASET_NAME = to_DatasetName(PARAM_DATASET_NAME)\n",
    "\n",
    "if DATASET_NAME is None:\n",
    "    print(f\"dataset name '{PARAM_DATASET_NAME}' not supported.\")\n",
    "\n",
    "DATASET_STAGE = DatasetStage.PROCESSED_MODEL_PREDICTED\n",
    "\n",
    "# read data and preprocess it for the model\n",
    "(train_data, test_data), dataset_meta = dataset_reader.read_dataset(DATASET_NAME, DATASET_STAGE)\n",
    "holdout_significance_data = dataset_reader._read_processed(dataset_meta, \"model_predicted_holdout_significance.csv\", \",\")\n",
    "holdout_generalizability_data = dataset_reader._read_processed(dataset_meta, \"model_predicted_holdout_generalizability.csv\", \",\")\n",
    "\n",
    "permutation_patterns = pd.read_csv(PARAM_PATTERNS_IN_PATH)\n",
    "\n",
    "rng = np.random.default_rng(PARAM_SEED)"
   ]
  },
  {
   "cell_type": "markdown",
   "metadata": {},
   "source": [
    "## Permute Subgroups in the Dataset"
   ]
  },
  {
   "cell_type": "code",
   "execution_count": null,
   "metadata": {},
   "outputs": [],
   "source": [
    "from subroc.datasets.contamination import permute_columns_subgroup, negate_columns_subgroup\n",
    "from subroc.util import create_subgroup, from_str_Conjunction\n",
    "\n",
    "\n",
    "def inject(data, pattern, split_name):\n",
    "    columns_before_permutation = data[PARAM_PERMUTATION_COLUMNS].to_numpy()\n",
    "\n",
    "    subgroup = create_subgroup(data, from_str_Conjunction(pattern).selectors)\n",
    "\n",
    "    if PARAM_INJECTION_PROCEDURE == \"permute\":\n",
    "        permute_columns_subgroup(data, PARAM_PERMUTATION_COLUMNS, subgroup, rng)\n",
    "    elif PARAM_INJECTION_PROCEDURE == \"negate\":\n",
    "        negate_columns_subgroup(data, PARAM_PERMUTATION_COLUMNS, subgroup)\n",
    "    else:\n",
    "        raise ValueError(f\"Injection procedure {PARAM_INJECTION_PROCEDURE} not supported.\")\n",
    "\n",
    "    print(\"pattern:\", pattern)\n",
    "    print(\"split name:\", split_name)\n",
    "    if np.sum(subgroup.representation) != 0:\n",
    "        print(\"ratio of changed values at fixed positions inside the subgroup:\", np.sum(data[PARAM_PERMUTATION_COLUMNS].to_numpy() != columns_before_permutation) / np.sum(subgroup.representation))\n",
    "    else:\n",
    "        print(\"nothing changed, because the subgroup has an empty cover\")\n",
    "    print()\n",
    "\n",
    "\n",
    "for pattern in list(permutation_patterns):\n",
    "    inject(train_data, pattern, \"Training\")\n",
    "    inject(test_data, pattern, \"Search\")\n",
    "    inject(holdout_significance_data, pattern, \"Holdout Significance\")\n",
    "    inject(holdout_generalizability_data, pattern, \"Holdout Generalizability\")"
   ]
  },
  {
   "cell_type": "markdown",
   "metadata": {},
   "source": [
    "## Save the Result"
   ]
  },
  {
   "cell_type": "code",
   "execution_count": 30,
   "metadata": {},
   "outputs": [],
   "source": [
    "out_path = DATA_OUT_PATH\n",
    "if not os.path.exists(out_path):\n",
    "    os.mkdir(out_path)\n",
    "\n",
    "train_data.to_csv(out_path + \"/\" + \"permuted_model_predicted_train.csv\", index=False)\n",
    "test_data.to_csv(out_path + \"/\" + \"permuted_model_predicted_test.csv\", index=False)\n",
    "holdout_significance_data.to_csv(out_path + \"/\" + \"permuted_model_predicted_holdout_significance.csv\", index=False)\n",
    "holdout_generalizability_data.to_csv(out_path + \"/\" + \"permuted_model_predicted_holdout_generalizability.csv\", index=False)"
   ]
  }
 ],
 "metadata": {
  "kernelspec": {
   "display_name": "subroc",
   "language": "python",
   "name": "python3"
  },
  "language_info": {
   "codemirror_mode": {
    "name": "ipython",
    "version": 3
   },
   "file_extension": ".py",
   "mimetype": "text/x-python",
   "name": "python",
   "nbconvert_exporter": "python",
   "pygments_lexer": "ipython3",
   "version": "3.10.14"
  }
 },
 "nbformat": 4,
 "nbformat_minor": 2
}
