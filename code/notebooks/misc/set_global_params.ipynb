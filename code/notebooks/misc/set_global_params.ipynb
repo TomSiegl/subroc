{
 "cells": [
  {
   "cell_type": "markdown",
   "metadata": {},
   "source": [
    "# Create Configs with all Combinations of Given Value Lists"
   ]
  },
  {
   "cell_type": "markdown",
   "metadata": {},
   "source": [
    "## Default Values for Papermill Parameters"
   ]
  },
  {
   "cell_type": "code",
   "execution_count": null,
   "metadata": {
    "tags": [
     "parameters"
    ]
   },
   "outputs": [],
   "source": [
    "PARAM_GLOBAL_PARAMS_FILENAME = \"../outputs/global_params.yaml\""
   ]
  },
  {
   "cell_type": "markdown",
   "metadata": {},
   "source": [
    "## Import and Set Parameters"
   ]
  },
  {
   "cell_type": "code",
   "execution_count": null,
   "metadata": {},
   "outputs": [],
   "source": [
    "from subroc import util\n",
    "\n",
    "import yaml\n",
    "import os\n",
    "\n",
    "# fill environment variables into params\n",
    "PARAM_GLOBAL_PARAMS_FILENAME = util.prepend_experiment_definition_path(PARAM_GLOBAL_PARAMS_FILENAME)\n",
    "\n",
    "EXPERIMENT_DEFINITION_PATH = os.environ.get(\"EXPERIMENT_DEFINITIONS_PATH\") + \"/\" + os.environ.get(\"EXPERIMENT_NAME\")"
   ]
  },
  {
   "cell_type": "markdown",
   "metadata": {},
   "source": [
    "## Read Values of Global Params"
   ]
  },
  {
   "cell_type": "code",
   "execution_count": null,
   "metadata": {},
   "outputs": [],
   "source": [
    "with open(PARAM_GLOBAL_PARAMS_FILENAME) as global_params_file:\n",
    "    global_params = yaml.load(global_params_file, Loader=yaml.FullLoader)\n",
    "\n",
    "print(\"global_params =\", global_params)"
   ]
  },
  {
   "cell_type": "markdown",
   "metadata": {},
   "source": [
    "## Write Values of Global Params into the params.yaml Files of all the Stages"
   ]
  },
  {
   "cell_type": "code",
   "execution_count": null,
   "metadata": {},
   "outputs": [],
   "source": [
    "def update_config(path):\n",
    "    with open(path, \"r+\") as stage_params_file:\n",
    "        stage_params = yaml.load(stage_params_file, Loader=yaml.FullLoader)\n",
    "        \n",
    "        if stage_params is None:\n",
    "            stage_params = {}\n",
    "\n",
    "        print(f\"params of {stage_dir} before update: {stage_params}\")\n",
    "\n",
    "        stage_params |= global_params\n",
    "\n",
    "        print(f\"params of {stage_dir} after update: {stage_params}\")\n",
    "\n",
    "        stage_params_file.seek(0)\n",
    "        yaml.dump(stage_params, stage_params_file)\n",
    "        stage_params_file.truncate()\n",
    "\n",
    "\n",
    "for stage_dir in os.listdir(EXPERIMENT_DEFINITION_PATH):\n",
    "    if \"stage\" not in stage_dir:\n",
    "        continue\n",
    "\n",
    "    try:\n",
    "        update_config(f\"{EXPERIMENT_DEFINITION_PATH}/{stage_dir}/base_config.yaml\")\n",
    "        continue\n",
    "    except FileNotFoundError:\n",
    "        pass\n",
    "\n",
    "    try:\n",
    "        update_config(f\"{EXPERIMENT_DEFINITION_PATH}/{stage_dir}/params.yaml\")\n",
    "    except FileNotFoundError:\n",
    "        pass"
   ]
  }
 ],
 "metadata": {
  "kernelspec": {
   "display_name": "subroc",
   "language": "python",
   "name": "python3"
  },
  "language_info": {
   "codemirror_mode": {
    "name": "ipython",
    "version": 3
   },
   "file_extension": ".py",
   "mimetype": "text/x-python",
   "name": "python",
   "nbconvert_exporter": "python",
   "pygments_lexer": "ipython3",
   "version": "3.10.14"
  }
 },
 "nbformat": 4,
 "nbformat_minor": 2
}
