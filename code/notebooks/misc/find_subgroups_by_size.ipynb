{
 "cells": [
  {
   "cell_type": "markdown",
   "metadata": {},
   "source": [
    "# Find Subgroups in a Given Size Range on the Search Split of a Dataset"
   ]
  },
  {
   "cell_type": "markdown",
   "metadata": {},
   "source": [
    "## Default Values for Papermill Parameters"
   ]
  },
  {
   "cell_type": "code",
   "execution_count": 8,
   "metadata": {
    "tags": [
     "parameters"
    ]
   },
   "outputs": [],
   "source": [
    "PARAM_DATA_IN_PATH = \"../../data\"\n",
    "PARAM_DATASET_NAME = \"OpenML Adult\"\n",
    "\n",
    "PARAM_MIN_SIZE_FRACTION = 0.7  # 0.2, 0.45, 0.7\n",
    "PARAM_MAX_SIZE_FRACTION = 0.8  # 0.3, 0.55, 0.8\n",
    "PARAM_DEPTH = 3\n",
    "\n",
    "PARAM_PATTERNS_OUT_FILENAME = f\"/{PARAM_MIN_SIZE_FRACTION}_{PARAM_MAX_SIZE_FRACTION}_picked_pattern.csv\"\n",
    "\n",
    "PARAM_SEED = 0"
   ]
  },
  {
   "cell_type": "markdown",
   "metadata": {},
   "source": [
    "## Import and Set Parameters"
   ]
  },
  {
   "cell_type": "code",
   "execution_count": 15,
   "metadata": {},
   "outputs": [],
   "source": [
    "from subroc.datasets.metadata import to_DatasetName, meta_dict\n",
    "from subroc.datasets.reader import DatasetReader, DatasetStage\n",
    "from subroc import util\n",
    "import pysubgroup as ps\n",
    "import numpy as np\n",
    "import os\n",
    "\n",
    "PARAM_DATA_IN_PATH = util.prepend_experiment_output_path(PARAM_DATA_IN_PATH)\n",
    "\n",
    "# get environment variables\n",
    "STAGE_OUTPUT_PATH = os.environ.get(\"STAGE_OUTPUT_PATH\", \"../outputs\")\n",
    "\n",
    "# Dataset\n",
    "dataset_reader = DatasetReader(PARAM_DATA_IN_PATH)\n",
    "\n",
    "DATASET_NAME = to_DatasetName(PARAM_DATASET_NAME)\n",
    "\n",
    "if DATASET_NAME is None:\n",
    "    print(f\"dataset name '{PARAM_DATASET_NAME}' not supported.\")\n",
    "\n",
    "dataset_meta = meta_dict[DATASET_NAME]\n",
    "\n",
    "DATASET_STAGE = DatasetStage.PROCESSED_MODEL_READY\n",
    "\n",
    "# read data and preprocess it for the model\n",
    "(_, test_data), dataset_meta = dataset_reader.read_dataset(DATASET_NAME, DATASET_STAGE)\n",
    "\n",
    "rng = np.random.default_rng(PARAM_SEED)"
   ]
  },
  {
   "cell_type": "markdown",
   "metadata": {},
   "source": [
    "## Define Selectors (Search Space)"
   ]
  },
  {
   "cell_type": "code",
   "execution_count": null,
   "metadata": {},
   "outputs": [],
   "source": [
    "from subroc.selectors import create_selectors\n",
    "\n",
    "IGNORE_NULL = True\n",
    "intermediate_search_space = create_selectors(\n",
    "    test_data,\n",
    "    nbins=10,\n",
    "    ignore=[dataset_meta.gt_name, dataset_meta.score_name],\n",
    "    ignore_null=IGNORE_NULL\n",
    ")\n",
    "\n",
    "# Dummy attributes contain values that correspond to inequality of an original nominal value.\n",
    "# Equality selectors with such values effectively define inequality selectors with the original nominal values.\n",
    "# They are therefore removed.\n",
    "SEARCH_SPACE = []\n",
    "for selector in intermediate_search_space:\n",
    "    if isinstance(selector, ps.EqualitySelector) and not selector.attribute_value:\n",
    "        continue\n",
    "    \n",
    "    SEARCH_SPACE.append(selector)"
   ]
  },
  {
   "cell_type": "markdown",
   "metadata": {},
   "source": [
    "## Generate Patterns and Compute Cover Sizes"
   ]
  },
  {
   "cell_type": "code",
   "execution_count": null,
   "metadata": {},
   "outputs": [],
   "source": [
    "from subroc.util import create_subgroup, from_str_Conjunction\n",
    "\n",
    "import itertools\n",
    "from tqdm.notebook import tqdm\n",
    "\n",
    "all_patterns = np.array([\" AND \".join([str(sel) for sel in selectors]) for depth in tqdm(range(1, PARAM_DEPTH+1)) for selectors in list(itertools.combinations(SEARCH_SPACE, depth))])\n",
    "print(all_patterns)\n",
    "all_cover_sizes = np.array([np.sum(create_subgroup(test_data, from_str_Conjunction(pattern).selectors).representation) for pattern in tqdm(all_patterns)])"
   ]
  },
  {
   "cell_type": "markdown",
   "metadata": {},
   "source": [
    "## Filter Patterns from Search Space"
   ]
  },
  {
   "cell_type": "code",
   "execution_count": null,
   "metadata": {},
   "outputs": [],
   "source": [
    "filtered_patterns_idx = []\n",
    "\n",
    "for idx in tqdm(range(len(all_patterns))):\n",
    "    if PARAM_MIN_SIZE_FRACTION*len(test_data) <= all_cover_sizes[idx] <= PARAM_MAX_SIZE_FRACTION*len(test_data):\n",
    "        filtered_patterns_idx.append(idx)\n",
    "\n",
    "all_patterns[filtered_patterns_idx]"
   ]
  },
  {
   "cell_type": "markdown",
   "metadata": {},
   "source": [
    "## Histogram of Remaining Subgroup Sizes"
   ]
  },
  {
   "cell_type": "code",
   "execution_count": null,
   "metadata": {},
   "outputs": [],
   "source": [
    "import matplotlib.pyplot as plt\n",
    "\n",
    "# plt.hist(all_cover_sizes, bins=100, range=(0, len(test_data)))\n",
    "plt.hist(all_cover_sizes[filtered_patterns_idx], bins=100, range=(0, len(test_data)))\n",
    "plt.axvline(PARAM_MIN_SIZE_FRACTION*len(test_data), c=\"red\")\n",
    "plt.axvline(PARAM_MAX_SIZE_FRACTION*len(test_data), c=\"red\")"
   ]
  },
  {
   "cell_type": "markdown",
   "metadata": {},
   "source": [
    "## Pick a Filtered Subgroup Randomly"
   ]
  },
  {
   "cell_type": "code",
   "execution_count": null,
   "metadata": {},
   "outputs": [],
   "source": [
    "import pandas as pd\n",
    "\n",
    "picked_pattern = rng.choice(all_patterns[filtered_patterns_idx])\n",
    "print(picked_pattern)\n",
    "\n",
    "pd.DataFrame([picked_pattern]).to_csv(STAGE_OUTPUT_PATH + \"/\" + PARAM_PATTERNS_OUT_FILENAME, header=None, index=False)"
   ]
  }
 ],
 "metadata": {
  "kernelspec": {
   "display_name": "subroc",
   "language": "python",
   "name": "python3"
  },
  "language_info": {
   "codemirror_mode": {
    "name": "ipython",
    "version": 3
   },
   "file_extension": ".py",
   "mimetype": "text/x-python",
   "name": "python",
   "nbconvert_exporter": "python",
   "pygments_lexer": "ipython3",
   "version": "3.10.16"
  }
 },
 "nbformat": 4,
 "nbformat_minor": 2
}
