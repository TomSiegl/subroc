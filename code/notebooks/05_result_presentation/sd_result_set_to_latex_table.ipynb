{
 "cells": [
  {
   "cell_type": "markdown",
   "id": "fab7afb901cf284",
   "metadata": {},
   "source": [
    "# Convert a Subgroup Discovery Result Set from pandas-compatible .csv File to LaTeX-table-compatible .csv File"
   ]
  },
  {
   "cell_type": "markdown",
   "id": "4a9f239450b73aef",
   "metadata": {},
   "source": [
    "## Default Values for Papermill Parameters"
   ]
  },
  {
   "cell_type": "code",
   "execution_count": 1,
   "id": "initial_id",
   "metadata": {
    "collapsed": true,
    "editable": true,
    "jupyter": {
     "outputs_hidden": true
    },
    "slideshow": {
     "slide_type": ""
    },
    "tags": [
     "parameters"
    ]
   },
   "outputs": [],
   "source": [
    "PARAM_PATTERN_COLUMN = \"pattern\"\n",
    "PARAM_RESULT_SET_PATH = \"../outputs/sorted_result_set_groupby_sd_result_set_average_ranking_loss.csv\"\n",
    "PARAM_DATA_IN_PATH = \"../../data\"\n",
    "PARAM_CSV_RESULT_FILENAME = \"result_set_table.csv\"\n",
    "PARAM_LATEX_RESULT_FILENAME = \"result_set_table.tex\"\n",
    "PARAM_COLUMN_NAME_MAP = {\"interestingness\": \"Interestingness\", \"pattern\": \"Pattern\", \"average_ranking_loss\": \"ARL\"}\n",
    "PARAM_COLUMN_FORMAT = \"rlr\"\n",
    "PARAM_LINE_SPACE = \"5pt\""
   ]
  },
  {
   "cell_type": "markdown",
   "id": "f1f482f8d268cd08",
   "metadata": {},
   "source": [
    "## Import and Set Parameters"
   ]
  },
  {
   "cell_type": "code",
   "execution_count": 2,
   "id": "9f13a0845ef5aca5",
   "metadata": {},
   "outputs": [],
   "source": [
    "from subroc.datasets.metadata import DatasetName\n",
    "from subroc.datasets.reader import DatasetReader, DatasetStage\n",
    "from subroc import pattern_to_latex\n",
    "from subroc import util\n",
    "\n",
    "import pandas as pd\n",
    "import os\n",
    "\n",
    "# fill environment variables into params\n",
    "PARAM_RESULT_SET_PATH = util.prepend_experiment_output_path(PARAM_RESULT_SET_PATH)\n",
    "PARAM_DATA_IN_PATH = util.prepend_experiment_output_path(PARAM_DATA_IN_PATH)\n",
    "\n",
    "STAGE_OUTPUT_PATH = os.environ.get(\"STAGE_OUTPUT_PATH\", \"../outputs\")\n",
    "\n",
    "# Dataset\n",
    "DATASET_READER = DatasetReader(PARAM_DATA_IN_PATH)\n",
    "\n",
    "DATASET_NAME = DatasetName.OpenML_ADULT\n",
    "DATASET_STAGE = DatasetStage.RAW"
   ]
  },
  {
   "cell_type": "markdown",
   "id": "d106ec65a328c547",
   "metadata": {},
   "source": [
    "## Read the Data"
   ]
  },
  {
   "cell_type": "code",
   "execution_count": 3,
   "id": "ecb1b096075bae68",
   "metadata": {},
   "outputs": [],
   "source": [
    "# read data\n",
    "data, dataset_meta = DATASET_READER.read_dataset(DATASET_NAME, DATASET_STAGE)"
   ]
  },
  {
   "cell_type": "markdown",
   "id": "7b4f5f99801fc5b1",
   "metadata": {},
   "source": [
    "## Read the Result Set"
   ]
  },
  {
   "cell_type": "code",
   "execution_count": null,
   "id": "dd8766e3bee0f8d1",
   "metadata": {},
   "outputs": [],
   "source": [
    "result_set = pd.read_csv(f\"{PARAM_RESULT_SET_PATH}\")"
   ]
  },
  {
   "cell_type": "markdown",
   "id": "3fafd0020885db86",
   "metadata": {},
   "source": [
    "## Make LaTeX Representation of Patterns in the Result Set"
   ]
  },
  {
   "cell_type": "code",
   "execution_count": null,
   "id": "45204d3365407880",
   "metadata": {},
   "outputs": [],
   "source": [
    "original_columns = result_set.columns.values.tolist()\n",
    "latex_compatible_result_set = pd.DataFrame(columns=original_columns)\n",
    "\n",
    "\n",
    "def format_number(n):\n",
    "    if isinstance(n, float):\n",
    "        return f\"{n:.4f}\"\n",
    "    else:\n",
    "        return str(n)\n",
    "\n",
    "\n",
    "for i, result in enumerate(result_set.itertuples()):\n",
    "    sel_conjunction = util.from_str_Conjunction(result.pattern)\n",
    "    sel_conjunction = util.restore_categorical(sel_conjunction, data)\n",
    "    result_pattern_latex = r\"\\makecell[l]{$\" + pattern_to_latex.convert_Conjunction(sel_conjunction) + r\"$}\"\n",
    "    num_newlines = result_pattern_latex.count(r\"\\\\\")\n",
    "    updated_column = [r\"\\makecell[r]{\" + format_number(result[col_i+1]) + r\"\\\\\\ \"*num_newlines + r\"}\" if original_column != PARAM_PATTERN_COLUMN else result_pattern_latex for col_i, original_column in enumerate(original_columns)]\n",
    "    updated_column[0] = r\"\\addlinespace[\" + PARAM_LINE_SPACE + r\"] \" + updated_column[0]\n",
    "    print(updated_column)\n",
    "    latex_compatible_result_set.loc[i] = updated_column\n",
    "\n",
    "latex_compatible_result_set.rename(columns=PARAM_COLUMN_NAME_MAP, inplace=True)"
   ]
  },
  {
   "cell_type": "markdown",
   "id": "1674abf881a1cf99",
   "metadata": {},
   "source": [
    "## Write the Converted Result Set to .csv"
   ]
  },
  {
   "cell_type": "code",
   "execution_count": null,
   "id": "bbf68b1d5c1e60c6",
   "metadata": {},
   "outputs": [],
   "source": [
    "latex_compatible_result_set.to_csv(f\"{STAGE_OUTPUT_PATH}/{PARAM_CSV_RESULT_FILENAME}\", index=False)"
   ]
  },
  {
   "cell_type": "markdown",
   "id": "6e578e5a6930832c",
   "metadata": {},
   "source": [
    "## Write the Converted Result Set to .tex"
   ]
  },
  {
   "cell_type": "code",
   "execution_count": null,
   "id": "53759dc8c033869e",
   "metadata": {},
   "outputs": [],
   "source": [
    "\n",
    "\n",
    "def replace_text_underscores(s) -> str:\n",
    "    if not isinstance(s, str):\n",
    "        return s\n",
    "    \n",
    "    return s.replace(\"_\", \"\\\\_\")\n",
    "\n",
    "\n",
    "latex_compatible_result_set = latex_compatible_result_set.rename(columns=replace_text_underscores, errors='raise')\n",
    "latex_compatible_result_set = latex_compatible_result_set.map(replace_text_underscores)\n",
    "latex_compatible_result_set.to_latex(f\"{STAGE_OUTPUT_PATH}/{PARAM_LATEX_RESULT_FILENAME}\", float_format=\"%.4f\", column_format=PARAM_COLUMN_FORMAT, index=False)"
   ]
  }
 ],
 "metadata": {
  "kernelspec": {
   "display_name": "subroc",
   "language": "python",
   "name": "python3"
  },
  "language_info": {
   "codemirror_mode": {
    "name": "ipython",
    "version": 3
   },
   "file_extension": ".py",
   "mimetype": "text/x-python",
   "name": "python",
   "nbconvert_exporter": "python",
   "pygments_lexer": "ipython3",
   "version": "3.10.16"
  }
 },
 "nbformat": 4,
 "nbformat_minor": 5
}
