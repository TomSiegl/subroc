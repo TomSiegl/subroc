{
 "cells": [
  {
   "cell_type": "markdown",
   "id": "fab7afb901cf284",
   "metadata": {},
   "source": [
    "# Convert Runtime/(Visited Subgroups) Speedups from pandas-compatible .csv File to LaTeX Code"
   ]
  },
  {
   "cell_type": "markdown",
   "id": "4a9f239450b73aef",
   "metadata": {},
   "source": [
    "## Default Values for Papermill Parameters"
   ]
  },
  {
   "cell_type": "code",
   "execution_count": null,
   "id": "initial_id",
   "metadata": {
    "collapsed": true,
    "editable": true,
    "jupyter": {
     "outputs_hidden": true
    },
    "slideshow": {
     "slide_type": ""
    },
    "tags": [
     "parameters"
    ]
   },
   "outputs": [],
   "source": [
    "PARAM_RUNTIME_SPEEDUPS_PATH = \"../outputs/speedups_statistics_merged_result_set.csv\"\n",
    "PARAM_OUT_FILENAME_SUFFIX = \"speedups_table.tex\""
   ]
  },
  {
   "cell_type": "markdown",
   "id": "f1f482f8d268cd08",
   "metadata": {},
   "source": [
    "## Import and Set Parameters"
   ]
  },
  {
   "cell_type": "code",
   "execution_count": null,
   "id": "9f13a0845ef5aca5",
   "metadata": {},
   "outputs": [],
   "source": [
    "from subroc import util\n",
    "\n",
    "import pandas as pd\n",
    "import os\n",
    "\n",
    "# fill environment variables into params\n",
    "PARAM_RUNTIME_SPEEDUPS_PATH = util.prepend_experiment_output_path(PARAM_RUNTIME_SPEEDUPS_PATH)\n",
    "\n",
    "# get environment variables\n",
    "STAGE_OUTPUT_PATH = os.environ.get(\"STAGE_OUTPUT_PATH\", \"../outputs\")"
   ]
  },
  {
   "cell_type": "markdown",
   "id": "7b4f5f99801fc5b1",
   "metadata": {},
   "source": [
    "## Read the Speedups"
   ]
  },
  {
   "cell_type": "code",
   "execution_count": null,
   "id": "dd8766e3bee0f8d1",
   "metadata": {},
   "outputs": [],
   "source": [
    "speedups_df = pd.read_csv(PARAM_RUNTIME_SPEEDUPS_PATH)\n",
    "\n",
    "print(speedups_df)"
   ]
  },
  {
   "cell_type": "markdown",
   "id": "b95c80bb",
   "metadata": {},
   "source": [
    "## Prepare the Runtime Table Entries"
   ]
  },
  {
   "cell_type": "code",
   "execution_count": null,
   "id": "aaadaa4c",
   "metadata": {},
   "outputs": [],
   "source": [
    "qf_names = {\n",
    "    \"average_ranking_loss\": r\"$\\varphi_{Adult}^{rasl}$\",\n",
    "    \"roc_auc_score\": r\"$\\varphi_{Adult}^{ROCAUC}$\",\n",
    "    \"prc_auc_score\": r\"$\\varphi_{Adult}^{PRAUC}$\",\n",
    "}\n",
    "\n",
    "df_groupby = speedups_df.groupby(\"qf_name\", as_index=False)\n",
    "latex_rows = []\n",
    "\n",
    "for key in df_groupby.groups.keys():\n",
    "    group = df_groupby.get_group(key)\n",
    "\n",
    "    qf_name = qf_names[key]\n",
    "    latex_rows.append([qf_name, *[f\"{time_speedup:.4f}\" for time_speedup in group[\"time_speedup\"]]])\n",
    "\n",
    "runtime_latex_df = pd.DataFrame(latex_rows, columns=[\"Interestingness Measure\", *[r\"$\\theta_{dc}=\" + str(i+1) + \"$\" for i in range(len(latex_rows[0])-1)]])\n",
    "\n",
    "print(runtime_latex_df)"
   ]
  },
  {
   "cell_type": "markdown",
   "id": "6e578e5a6930832c",
   "metadata": {},
   "source": [
    "## Write the Runtime Speedups Table to .tex"
   ]
  },
  {
   "cell_type": "code",
   "execution_count": null,
   "id": "53759dc8c033869e",
   "metadata": {},
   "outputs": [],
   "source": [
    "runtime_latex_df.to_latex(f\"{STAGE_OUTPUT_PATH}/runtime_{PARAM_OUT_FILENAME_SUFFIX}\", float_format=\"%.4f\", index=False)"
   ]
  },
  {
   "cell_type": "markdown",
   "id": "01fef706",
   "metadata": {},
   "source": [
    "## Prepare the Visited Subgroups Speedups Table Entries"
   ]
  },
  {
   "cell_type": "code",
   "execution_count": null,
   "id": "3a6a010c",
   "metadata": {},
   "outputs": [],
   "source": [
    "latex_rows = []\n",
    "\n",
    "for key in df_groupby.groups.keys():\n",
    "    group = df_groupby.get_group(key)\n",
    "\n",
    "    qf_name = qf_names[key]\n",
    "    latex_rows.append([qf_name, *[fr\"{100*num_visited_subgroups:.2f}\\%\" for num_visited_subgroups in group[\"num_visited_subgroups_speedup\"]]])\n",
    "\n",
    "num_visited_subgroups_latex_df = pd.DataFrame(latex_rows, columns=[\"Interestingness Measure\", *[r\"$\\theta_{dc}=\" + str(i+1) + \"$\" for i in range(len(latex_rows[0])-1)]])\n",
    "\n",
    "print(num_visited_subgroups_latex_df)"
   ]
  },
  {
   "cell_type": "markdown",
   "id": "a95ee35c",
   "metadata": {},
   "source": [
    "## Write the Visited Subgroups Speedups Table to .tex"
   ]
  },
  {
   "cell_type": "code",
   "execution_count": null,
   "id": "0061ff49",
   "metadata": {},
   "outputs": [],
   "source": [
    "num_visited_subgroups_latex_df.to_latex(f\"{STAGE_OUTPUT_PATH}/num_visited_subgroups_{PARAM_OUT_FILENAME_SUFFIX}\", float_format=\"%.4f\", index=False)"
   ]
  }
 ],
 "metadata": {
  "kernelspec": {
   "display_name": "subroc",
   "language": "python",
   "name": "python3"
  },
  "language_info": {
   "codemirror_mode": {
    "name": "ipython",
    "version": 3
   },
   "file_extension": ".py",
   "mimetype": "text/x-python",
   "name": "python",
   "nbconvert_exporter": "python",
   "pygments_lexer": "ipython3",
   "version": "3.10.14"
  }
 },
 "nbformat": 4,
 "nbformat_minor": 5
}
