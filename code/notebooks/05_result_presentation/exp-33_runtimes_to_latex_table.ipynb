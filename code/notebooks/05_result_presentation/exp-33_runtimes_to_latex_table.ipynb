{
 "cells": [
  {
   "cell_type": "markdown",
   "id": "fab7afb901cf284",
   "metadata": {},
   "source": [
    "# Convert Runtimes from pandas-compatible .csv File to LaTeX Code"
   ]
  },
  {
   "cell_type": "markdown",
   "id": "4a9f239450b73aef",
   "metadata": {},
   "source": [
    "## Default Values for Papermill Parameters"
   ]
  },
  {
   "cell_type": "code",
   "execution_count": null,
   "id": "initial_id",
   "metadata": {
    "collapsed": true,
    "editable": true,
    "jupyter": {
     "outputs_hidden": true
    },
    "slideshow": {
     "slide_type": ""
    },
    "tags": [
     "parameters"
    ]
   },
   "outputs": [],
   "source": [
    "PARAM_RUNTIMES_PATH = \"../outputs/statistics_merged_result_set.csv\"\n",
    "PARAM_OUT_FILENAME = \"runtimes_table.tex\""
   ]
  },
  {
   "cell_type": "markdown",
   "id": "f1f482f8d268cd08",
   "metadata": {},
   "source": [
    "## Import and Set Parameters"
   ]
  },
  {
   "cell_type": "code",
   "execution_count": null,
   "id": "9f13a0845ef5aca5",
   "metadata": {},
   "outputs": [],
   "source": [
    "from subroc import util\n",
    "\n",
    "import pandas as pd\n",
    "import os\n",
    "\n",
    "# fill environment variables into params\n",
    "PARAM_RUNTIMES_PATH = util.prepend_experiment_output_path(PARAM_RUNTIMES_PATH)\n",
    "\n",
    "# get environment variables\n",
    "STAGE_OUTPUT_PATH = os.environ.get(\"STAGE_OUTPUT_PATH\", \"../outputs\")"
   ]
  },
  {
   "cell_type": "markdown",
   "id": "7b4f5f99801fc5b1",
   "metadata": {},
   "source": [
    "## Read the Runtimes"
   ]
  },
  {
   "cell_type": "code",
   "execution_count": null,
   "id": "dd8766e3bee0f8d1",
   "metadata": {},
   "outputs": [],
   "source": [
    "runtimes_df = pd.read_csv(PARAM_RUNTIMES_PATH)\n",
    "\n",
    "print(runtimes_df)"
   ]
  },
  {
   "cell_type": "markdown",
   "id": "b95c80bb",
   "metadata": {},
   "source": [
    "## Prepare the Runtime Table Entries"
   ]
  },
  {
   "cell_type": "code",
   "execution_count": null,
   "id": "aaadaa4c",
   "metadata": {},
   "outputs": [],
   "source": [
    "def runtimes_to_latex_df(with_optimistic_estimate: bool):\n",
    "    oe_filtered_df = runtimes_df[runtimes_df[\"optimistic_estimate\"] == with_optimistic_estimate]\n",
    "\n",
    "    qf_names = {\n",
    "        \"average_ranking_loss\": r\"$\\varphi_{Adult}^{rasl}$\",\n",
    "        \"roc_auc_score\": r\"$\\varphi_{Adult}^{ROCAUC}$\",\n",
    "        \"prc_auc_score\": r\"$\\varphi_{Adult}^{PRAUC}$\",\n",
    "    }\n",
    "\n",
    "    df_groupby = oe_filtered_df.groupby(\"qf_name\", as_index=False)\n",
    "    latex_rows = []\n",
    "\n",
    "    for key in df_groupby.groups.keys():\n",
    "        group = df_groupby.get_group(key)\n",
    "        print(group)\n",
    "\n",
    "        qf_name = qf_names[key]\n",
    "        latex_rows.append([qf_name, *[f\"{group['time_mean'].iloc[i]:.4f}\" + r\" $\\pm$ \" + f\"{group['time_std'].iloc[i]:.4f}\" for i in range(len(group))]])\n",
    "\n",
    "    return pd.DataFrame(latex_rows, columns=[\"Interestingness Measure\", *[r\"$\\theta_{dc}=\" + str(i+1) + \"$\" for i in range(len(latex_rows[0])-1)]])\n",
    "\n",
    "with_oe_runtime_latex_df = runtimes_to_latex_df(True)\n",
    "with_oe_runtime_latex_df.to_latex(f\"{STAGE_OUTPUT_PATH}/with_oe_{PARAM_OUT_FILENAME}\", float_format=\"%.4f\", index=False)\n",
    "\n",
    "no_oe_runtime_latex_df = runtimes_to_latex_df(False)\n",
    "no_oe_runtime_latex_df.to_latex(f\"{STAGE_OUTPUT_PATH}/no_oe_{PARAM_OUT_FILENAME}\", float_format=\"%.4f\", index=False)"
   ]
  }
 ],
 "metadata": {
  "kernelspec": {
   "display_name": "subroc",
   "language": "python",
   "name": "python3"
  },
  "language_info": {
   "codemirror_mode": {
    "name": "ipython",
    "version": 3
   },
   "file_extension": ".py",
   "mimetype": "text/x-python",
   "name": "python",
   "nbconvert_exporter": "python",
   "pygments_lexer": "ipython3",
   "version": "3.10.14"
  }
 },
 "nbformat": 4,
 "nbformat_minor": 5
}
