{
 "cells": [
  {
   "cell_type": "markdown",
   "id": "b9ba954f34980343",
   "metadata": {},
   "source": [
    "# Plot the Chosen Runtimes Statistic with Runtime Standard Deviations"
   ]
  },
  {
   "cell_type": "markdown",
   "id": "c71606acbcb933a6",
   "metadata": {},
   "source": [
    "## Default Values for Papermill Parameters"
   ]
  },
  {
   "cell_type": "code",
   "execution_count": null,
   "id": "initial_id",
   "metadata": {
    "ExecuteTime": {
     "end_time": "2024-07-03T15:07:57.663627Z",
     "start_time": "2024-07-03T15:07:57.646605Z"
    },
    "collapsed": true,
    "editable": true,
    "jupyter": {
     "outputs_hidden": true
    },
    "slideshow": {
     "slide_type": ""
    },
    "tags": [
     "parameters"
    ]
   },
   "outputs": [],
   "source": [
    "PARAM_RUNTIME_STATISTICS_PATH = \"../outputs/statistics_merged_result_set.csv\"\n",
    "PARAM_OUT_FILENAME = \"runtime_barplot_confidence.pdf\"\n",
    "PARAM_RUNTIME_STATISTIC = \"time_mean\""
   ]
  },
  {
   "cell_type": "markdown",
   "id": "4594c4db8918611c",
   "metadata": {},
   "source": [
    "## Import and Set Parameters"
   ]
  },
  {
   "cell_type": "code",
   "execution_count": null,
   "id": "89d8866c280c829a",
   "metadata": {
    "ExecuteTime": {
     "end_time": "2024-07-03T15:07:59.205904Z",
     "start_time": "2024-07-03T15:07:57.667604Z"
    }
   },
   "outputs": [],
   "source": [
    "from subroc import util\n",
    "\n",
    "import pandas as pd\n",
    "import os\n",
    "\n",
    "# import and configure matplotlib\n",
    "import matplotlib.pyplot as plt\n",
    "plt.rcParams.update({\n",
    "    \"text.usetex\": True,\n",
    "    \"figure.autolayout\": True\n",
    "})\n",
    "\n",
    "# fill environment variables into params\n",
    "PARAM_RUNTIME_STATISTICS_PATH = util.prepend_experiment_output_path(PARAM_RUNTIME_STATISTICS_PATH)\n",
    "\n",
    "# get environment variables\n",
    "STAGE_OUTPUT_PATH = os.environ.get(\"STAGE_OUTPUT_PATH\", \"../outputs\")"
   ]
  },
  {
   "cell_type": "markdown",
   "id": "333c304ae30043d3",
   "metadata": {},
   "source": [
    "## Read the Runtime Statistics"
   ]
  },
  {
   "cell_type": "code",
   "execution_count": null,
   "id": "72fcb491546cd7b",
   "metadata": {
    "ExecuteTime": {
     "end_time": "2024-07-03T15:08:00.476746Z",
     "start_time": "2024-07-03T15:08:00.463295Z"
    }
   },
   "outputs": [],
   "source": [
    "statistics_df = pd.read_csv(PARAM_RUNTIME_STATISTICS_PATH)"
   ]
  },
  {
   "cell_type": "markdown",
   "id": "e5242294817af058",
   "metadata": {},
   "source": [
    "## Define the Plots"
   ]
  },
  {
   "cell_type": "code",
   "execution_count": null,
   "id": "df01584bb5c28272",
   "metadata": {
    "ExecuteTime": {
     "end_time": "2024-07-03T15:08:00.538797Z",
     "start_time": "2024-07-03T15:08:00.479723Z"
    }
   },
   "outputs": [],
   "source": [
    "\n",
    "\n",
    "def label_bars(bars, ax, logaxis):\n",
    "    for bar in bars:\n",
    "        height = bar.get_height()\n",
    "\n",
    "        ax.text(bar.get_x() + bar.get_width()/2, height,\n",
    "                \"{:.2f}\\n\\n\".format(height),\n",
    "                ha=\"center\", va=\"center\")\n",
    "\n",
    "\n",
    "def create_fig(x_no_oe, y_no_oe, yerr_no_oe, x_with_oe, y_with_oe, yerr_with_oe, xlabel, ylabel, logaxis, barwidth=0.3):\n",
    "    # get the figure and axis\n",
    "    fig = plt.figure(figsize=(3.3, 3.3/1.5))\n",
    "    ax = fig.gca()\n",
    "\n",
    "    # set axis labels\n",
    "    ax.set_xlabel(xlabel)\n",
    "    ax.set_ylabel(ylabel)\n",
    "    \n",
    "    # create the grid\n",
    "    ax.set_axisbelow(True)\n",
    "    ax.grid(visible=True, which=\"major\", axis=\"y\", linestyle=\"dotted\")\n",
    "\n",
    "    # create the bar plots\n",
    "    barshift = barwidth/2 + 0.05\n",
    "    bars_no_oe = ax.bar([depth - barshift for depth in x_no_oe], y_no_oe,\n",
    "        width=0.3,\n",
    "        log=logaxis,\n",
    "        yerr=yerr_no_oe,\n",
    "        capsize=10,\n",
    "        label=\"no pruning\")\n",
    "    bars_with_oe = ax.bar([depth + barshift for depth in x_with_oe], y_with_oe,\n",
    "        width=0.3,\n",
    "        log=logaxis,\n",
    "        yerr=yerr_with_oe,\n",
    "        capsize=10,\n",
    "        label=\"pruning\")\n",
    "    \n",
    "    # add legend\n",
    "    ax.legend(loc=\"upper left\")\n",
    "\n",
    "    # add bar labels\n",
    "    label_bars(bars_no_oe, ax, logaxis)\n",
    "    label_bars(bars_with_oe, ax, logaxis)\n",
    "\n",
    "    # layout configuration\n",
    "    ax.set_xlim(0, max(x_no_oe)+1)\n",
    "    ax.set_xticks(x_no_oe)\n",
    "\n",
    "    ax.margins(y=0.2)\n",
    "    if logaxis:\n",
    "        ax.set_ylim(1)\n",
    "\n",
    "    return fig\n",
    "\n"
   ]
  },
  {
   "cell_type": "markdown",
   "id": "5dc16290",
   "metadata": {},
   "source": [
    "## Create the Plots for Each Interestingness Measure"
   ]
  },
  {
   "cell_type": "code",
   "execution_count": null,
   "id": "cc05d2b7",
   "metadata": {},
   "outputs": [],
   "source": [
    "df_groupby_qfs = statistics_df.groupby(\"qf_name\", as_index=False)\n",
    "\n",
    "plots_per_qf = {}\n",
    "\n",
    "for qf_name in df_groupby_qfs.groups.keys():\n",
    "    df_groupby_oe = statistics_df.iloc[df_groupby_qfs.groups.get(qf_name)].groupby(\"optimistic_estimate\", as_index=False)\n",
    "\n",
    "    no_oe_idx = df_groupby_oe.groups.get(False)\n",
    "    depth_no_oe = statistics_df.iloc[no_oe_idx][\"depth\"]\n",
    "    stat_no_oe = statistics_df.iloc[no_oe_idx][PARAM_RUNTIME_STATISTIC]\n",
    "    std_no_oe = statistics_df.iloc[no_oe_idx][\"time_std\"]\n",
    "    num_visited_subgroups_no_oe = statistics_df.iloc[no_oe_idx][\"num_visited_subgroups\"]\n",
    "\n",
    "    with_oe_idx = df_groupby_oe.groups.get(True)\n",
    "    depth_with_oe = statistics_df.iloc[with_oe_idx][\"depth\"]\n",
    "    stat_with_oe = statistics_df.iloc[with_oe_idx][PARAM_RUNTIME_STATISTIC]\n",
    "    std_with_oe = statistics_df.iloc[with_oe_idx][\"time_std\"]\n",
    "    num_visited_subgroups_with_oe = statistics_df.iloc[with_oe_idx][\"num_visited_subgroups\"]\n",
    "\n",
    "    fig_runtimes_linear = create_fig(depth_no_oe, stat_no_oe, std_no_oe, depth_with_oe, stat_with_oe, std_with_oe, xlabel=\"Maximum Pattern Length\", ylabel=\"Average Runtime in s\", logaxis=False)\n",
    "    fig_runtimes_log = create_fig(depth_no_oe, stat_no_oe, std_no_oe, depth_with_oe, stat_with_oe, std_with_oe, xlabel=\"Maximum Pattern Length\", ylabel=\"Average Runtime in s\", logaxis=True)\n",
    "\n",
    "    fig_counts_linear = create_fig(depth_no_oe, num_visited_subgroups_no_oe, None, depth_with_oe, num_visited_subgroups_with_oe, None, xlabel=\"Maximum Pattern Length\", ylabel=\"\\#Evaluated Subgroups\", logaxis=False)\n",
    "    fig_counts_log = create_fig(depth_no_oe, num_visited_subgroups_no_oe, None, depth_with_oe, num_visited_subgroups_with_oe, None, xlabel=\"Maximum Pattern Length\", ylabel=\"\\#Evaluated Subgroups\", logaxis=True)\n",
    "\n",
    "    plots_per_qf[qf_name] = [fig_runtimes_linear, fig_runtimes_log, fig_counts_linear, fig_counts_log]"
   ]
  },
  {
   "cell_type": "markdown",
   "id": "aea26059f570d579",
   "metadata": {},
   "source": [
    "## Write the Results"
   ]
  },
  {
   "cell_type": "code",
   "execution_count": null,
   "id": "62d1192219060f6a",
   "metadata": {
    "ExecuteTime": {
     "end_time": "2024-07-03T15:08:00.554713Z",
     "start_time": "2024-07-03T15:08:00.542676Z"
    }
   },
   "outputs": [],
   "source": [
    "import matplotlib.backends.backend_pdf as backend_pdf\n",
    "\n",
    "for qf_name in plots_per_qf.keys():\n",
    "    pdf = backend_pdf.PdfPages(f\"{STAGE_OUTPUT_PATH}/{qf_name}_{PARAM_OUT_FILENAME}\")\n",
    "\n",
    "    for fig in plots_per_qf[qf_name]:\n",
    "        pdf.savefig(fig)\n",
    "\n",
    "    pdf.close()"
   ]
  }
 ],
 "metadata": {
  "kernelspec": {
   "display_name": "Python 3 (ipykernel)",
   "language": "python",
   "name": "python3"
  },
  "language_info": {
   "codemirror_mode": {
    "name": "ipython",
    "version": 3
   },
   "file_extension": ".py",
   "mimetype": "text/x-python",
   "name": "python",
   "nbconvert_exporter": "python",
   "pygments_lexer": "ipython3",
   "version": "3.10.14"
  }
 },
 "nbformat": 4,
 "nbformat_minor": 5
}
