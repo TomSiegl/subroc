{
 "cells": [
  {
   "cell_type": "markdown",
   "id": "38418cfac9ce9a80",
   "metadata": {
    "collapsed": false,
    "jupyter": {
     "outputs_hidden": false
    },
    "papermill": {
     "duration": 0.002395,
     "end_time": "2024-01-25T06:53:37.199390",
     "exception": false,
     "start_time": "2024-01-25T06:53:37.196995",
     "status": "completed"
    },
    "tags": []
   },
   "source": [
    "# Train and save a sklearn.linear_model.LinearRegression Model on the adult dataset\n",
    "## Use an even dataset split into 4 parts"
   ]
  },
  {
   "cell_type": "markdown",
   "id": "f0a3154f94ee1ae2",
   "metadata": {},
   "source": [
    "## Default Values for Papermill Parameters"
   ]
  },
  {
   "cell_type": "code",
   "execution_count": null,
   "id": "e777883699108bf2",
   "metadata": {
    "editable": true,
    "slideshow": {
     "slide_type": ""
    },
    "tags": [
     "parameters"
    ]
   },
   "outputs": [],
   "source": [
    "PARAM_SEED = 0\n",
    "PARAM_DATA_IN_PATH = \"../../data\"\n",
    "\n",
    "PARAM_DATASET_NAME = \"OpenML Adult\"\n",
    "PARAM_MODEL_NAME = \"model\"\n",
    "PARAM_MODEL_TYPE = \"sklearn_linear_model_LinearRegression\"\n",
    "\n",
    "PARAM_HIDDEN_LAYER_SIZES = [100, 100, 100]"
   ]
  },
  {
   "cell_type": "markdown",
   "id": "a2d618daadff82b5",
   "metadata": {
    "collapsed": false,
    "jupyter": {
     "outputs_hidden": false
    },
    "papermill": {
     "duration": 0.001547,
     "end_time": "2024-01-25T06:53:37.202865",
     "exception": false,
     "start_time": "2024-01-25T06:53:37.201318",
     "status": "completed"
    },
    "tags": []
   },
   "source": [
    "## Prepare constant variables that will be used throughout the notebook."
   ]
  },
  {
   "cell_type": "code",
   "execution_count": null,
   "id": "50d9afbd1db41b2e",
   "metadata": {
    "collapsed": false,
    "execution": {
     "iopub.execute_input": "2024-01-25T06:53:37.208295Z",
     "iopub.status.busy": "2024-01-25T06:53:37.207392Z",
     "iopub.status.idle": "2024-01-25T06:53:37.904863Z",
     "shell.execute_reply": "2024-01-25T06:53:37.903864Z"
    },
    "jupyter": {
     "outputs_hidden": false
    },
    "papermill": {
     "duration": 0.702503,
     "end_time": "2024-01-25T06:53:37.906955",
     "exception": false,
     "start_time": "2024-01-25T06:53:37.204452",
     "status": "completed"
    },
    "tags": []
   },
   "outputs": [],
   "source": [
    "from subroc import util\n",
    "import numpy as np\n",
    "from matplotlib import pyplot as plt\n",
    "\n",
    "from subroc.model_serialization import serialize, to_ModelName\n",
    "from subroc.model_abstraction import to_ModelType, instantiate\n",
    "from subroc.datasets.metadata import to_DatasetName\n",
    "from subroc.datasets.reader import DatasetReader, DatasetStage\n",
    "\n",
    "import os\n",
    "\n",
    "# fill environment variables into params\n",
    "PARAM_DATA_IN_PATH = util.prepend_experiment_output_path(PARAM_DATA_IN_PATH)\n",
    "\n",
    "# set constants\n",
    "STAGE_OUTPUT_PATH = os.environ.get(\"STAGE_OUTPUT_PATH\", \"../..\")\n",
    "\n",
    "DATASET_READER = DatasetReader(PARAM_DATA_IN_PATH)\n",
    "DATASET_NAME = to_DatasetName(PARAM_DATASET_NAME)\n",
    "\n",
    "DATA_OUT_PATH = f\"{STAGE_OUTPUT_PATH}/data/processed\"\n",
    "if not os.path.exists(DATA_OUT_PATH):\n",
    "    os.makedirs(DATA_OUT_PATH)\n",
    "\n",
    "MODELS_OUT_PATH = f\"{STAGE_OUTPUT_PATH}/models\"\n",
    "MODEL_NAME = to_ModelName(PARAM_MODEL_NAME)\n",
    "\n",
    "MODEL_TYPE = to_ModelType(PARAM_MODEL_TYPE)"
   ]
  },
  {
   "cell_type": "markdown",
   "id": "b326a972d74ecced",
   "metadata": {
    "collapsed": false,
    "jupyter": {
     "outputs_hidden": false
    },
    "papermill": {
     "duration": 0.001561,
     "end_time": "2024-01-25T06:53:37.910955",
     "exception": false,
     "start_time": "2024-01-25T06:53:37.909394",
     "status": "completed"
    },
    "tags": []
   },
   "source": [
    "## Prepare the Data and Save the Preprocessing Result"
   ]
  },
  {
   "cell_type": "code",
   "execution_count": null,
   "id": "31117792d02657c5",
   "metadata": {
    "collapsed": true,
    "execution": {
     "iopub.execute_input": "2024-01-25T06:53:37.916005Z",
     "iopub.status.busy": "2024-01-25T06:53:37.915541Z",
     "iopub.status.idle": "2024-01-25T06:53:37.985582Z",
     "shell.execute_reply": "2024-01-25T06:53:37.984855Z"
    },
    "jupyter": {
     "outputs_hidden": true
    },
    "papermill": {
     "duration": 0.073788,
     "end_time": "2024-01-25T06:53:37.986802",
     "exception": false,
     "start_time": "2024-01-25T06:53:37.913014",
     "status": "completed"
    },
    "tags": []
   },
   "outputs": [],
   "source": [
    "from subroc.preprocessing import preprocessing_functions\n",
    "\n",
    "data, dataset_meta = DATASET_READER.read_dataset(DATASET_NAME, DatasetStage.RAW)\n",
    "data, indices_1, indices_2, indices_3, indices_4 = preprocessing_functions[MODEL_NAME](data, dataset_meta, PARAM_SEED)\n",
    "\n",
    "# split data\n",
    "data_x = data.loc[:, data.columns != dataset_meta.gt_name]\n",
    "data_y = data[dataset_meta.gt_name]\n",
    "\n",
    "train_x = data_x.iloc[indices_1]\n",
    "train_y = data_y.iloc[indices_1]\n",
    "test_x = data_x.iloc[indices_2]\n",
    "test_y = data_y.iloc[indices_2]\n",
    "\n",
    "print(f\"train split size: {len(train_y)}\")\n",
    "print(f\"test split size: {len(test_y)}\")\n",
    "print(f\"significance holdout split size: {len(indices_3)}\")\n",
    "print(f\"generalizability holdout split size: {len(indices_4)}\")\n",
    "\n",
    "# save preprocessed data\n",
    "out_path = DATA_OUT_PATH + \"/\" + dataset_meta.dataset_dir\n",
    "if not os.path.exists(out_path):\n",
    "    os.mkdir(out_path)\n",
    "\n",
    "data.iloc[indices_1].to_csv(out_path + \"/\" + \"model_ready_train.csv\", index=False)\n",
    "data.iloc[indices_2].to_csv(out_path + \"/\" + \"model_ready_test.csv\", index=False)\n",
    "data.iloc[indices_3].to_csv(out_path + \"/\" + \"model_ready_holdout_significance.csv\", index=False)\n",
    "data.iloc[indices_4].to_csv(out_path + \"/\" + \"model_ready_holdout_generalizability.csv\", index=False)"
   ]
  },
  {
   "cell_type": "markdown",
   "id": "909f3eb6893ee8d5",
   "metadata": {
    "collapsed": false,
    "jupyter": {
     "outputs_hidden": false
    },
    "papermill": {
     "duration": 0.002602,
     "end_time": "2024-01-25T06:53:37.991371",
     "exception": false,
     "start_time": "2024-01-25T06:53:37.988769",
     "status": "completed"
    },
    "tags": []
   },
   "source": [
    "## Train model"
   ]
  },
  {
   "cell_type": "code",
   "execution_count": null,
   "id": "1c235e173c4955e4",
   "metadata": {
    "collapsed": false,
    "execution": {
     "iopub.execute_input": "2024-01-25T06:53:37.997885Z",
     "iopub.status.busy": "2024-01-25T06:53:37.997298Z",
     "iopub.status.idle": "2024-01-25T06:53:38.006823Z",
     "shell.execute_reply": "2024-01-25T06:53:38.006248Z"
    },
    "jupyter": {
     "outputs_hidden": false
    },
    "papermill": {
     "duration": 0.014785,
     "end_time": "2024-01-25T06:53:38.007781",
     "exception": false,
     "start_time": "2024-01-25T06:53:37.992996",
     "status": "completed"
    },
    "tags": []
   },
   "outputs": [],
   "source": [
    "# define model type\n",
    "model = instantiate(\n",
    "    MODEL_TYPE,\n",
    "    train_x, train_y,\n",
    "    seed=PARAM_SEED,\n",
    "    classes=np.unique(np.append(train_y, test_y).astype(\"int64\")),\n",
    "    sklearn_mlpclassifier_hidden_layer_sizes=PARAM_HIDDEN_LAYER_SIZES)"
   ]
  },
  {
   "cell_type": "markdown",
   "id": "71198bebaea84c3f",
   "metadata": {
    "collapsed": false,
    "jupyter": {
     "outputs_hidden": false
    },
    "papermill": {
     "duration": 0.001724,
     "end_time": "2024-01-25T06:53:38.011547",
     "exception": false,
     "start_time": "2024-01-25T06:53:38.009823",
     "status": "completed"
    },
    "tags": []
   },
   "source": [
    "## Evaluate"
   ]
  },
  {
   "cell_type": "code",
   "execution_count": null,
   "id": "39f5aa7cced960b3",
   "metadata": {
    "collapsed": false,
    "execution": {
     "iopub.execute_input": "2024-01-25T06:53:38.016338Z",
     "iopub.status.busy": "2024-01-25T06:53:38.015710Z",
     "iopub.status.idle": "2024-01-25T06:53:38.372804Z",
     "shell.execute_reply": "2024-01-25T06:53:38.372086Z"
    },
    "jupyter": {
     "outputs_hidden": false
    },
    "papermill": {
     "duration": 0.360695,
     "end_time": "2024-01-25T06:53:38.374040",
     "exception": false,
     "start_time": "2024-01-25T06:53:38.013345",
     "status": "completed"
    },
    "tags": []
   },
   "outputs": [],
   "source": [
    "from sklearn.metrics import RocCurveDisplay, precision_recall_curve\n",
    "from subroc.util import print_metric_colored\n",
    "from subroc.quality_functions.sklearn_metrics import soft_classification_metrics\n",
    "from termcolor import cprint\n",
    "\n",
    "test_predictions = model.predict(test_x)\n",
    "\n",
    "for metric in soft_classification_metrics:\n",
    "    try:\n",
    "        test_y_numpy = test_y.to_numpy()\n",
    "        metric_value = metric(test_y_numpy, test_predictions)\n",
    "        print_metric_colored(metric.__name__, metric_value)   \n",
    "    except ValueError:\n",
    "        cprint(f\"{metric.__name__}: ValueError\", color=\"red\")\n",
    "\n",
    "RocCurveDisplay.from_predictions(test_y, test_predictions)\n",
    "plt.title(\"ROC Curve\")\n",
    "plt.show()\n",
    "\n",
    "precision, recall, _ = precision_recall_curve(test_y, test_predictions, drop_intermediate=True)\n",
    "plt.plot(recall, precision)\n",
    "plt.title(\"Precision-Recall Curve\")\n",
    "plt.show()"
   ]
  },
  {
   "cell_type": "markdown",
   "id": "e26c31d79f709776",
   "metadata": {
    "collapsed": false,
    "jupyter": {
     "outputs_hidden": false
    },
    "papermill": {
     "duration": 0.002294,
     "end_time": "2024-01-25T06:53:38.379127",
     "exception": false,
     "start_time": "2024-01-25T06:53:38.376833",
     "status": "completed"
    },
    "tags": []
   },
   "source": [
    "## Serialize the Model"
   ]
  },
  {
   "cell_type": "code",
   "execution_count": null,
   "id": "initial_id",
   "metadata": {
    "collapsed": false,
    "execution": {
     "iopub.execute_input": "2024-01-25T06:53:38.385502Z",
     "iopub.status.busy": "2024-01-25T06:53:38.384833Z",
     "iopub.status.idle": "2024-01-25T06:53:38.388595Z",
     "shell.execute_reply": "2024-01-25T06:53:38.387919Z"
    },
    "jupyter": {
     "outputs_hidden": false
    },
    "papermill": {
     "duration": 0.008206,
     "end_time": "2024-01-25T06:53:38.389763",
     "exception": false,
     "start_time": "2024-01-25T06:53:38.381557",
     "status": "completed"
    },
    "tags": []
   },
   "outputs": [],
   "source": [
    "serialize(model, MODELS_OUT_PATH, PARAM_MODEL_NAME)"
   ]
  },
  {
   "cell_type": "markdown",
   "id": "9f052ee6",
   "metadata": {},
   "source": [
    "## Save Predictions"
   ]
  },
  {
   "cell_type": "code",
   "execution_count": null,
   "id": "e66e4b0e",
   "metadata": {},
   "outputs": [],
   "source": [
    "data[dataset_meta.score_name] = model.predict(data_x)\n",
    "\n",
    "data.iloc[indices_1].to_csv(out_path + \"/\" + \"model_predicted_train.csv\", index=False)\n",
    "data.iloc[indices_2].to_csv(out_path + \"/\" + \"model_predicted_test.csv\", index=False)\n",
    "data.iloc[indices_3].to_csv(out_path + \"/\" + \"model_predicted_holdout_significance.csv\", index=False)\n",
    "data.iloc[indices_4].to_csv(out_path + \"/\" + \"model_predicted_holdout_generalizability.csv\", index=False)"
   ]
  }
 ],
 "metadata": {
  "kernelspec": {
   "display_name": "subroc",
   "language": "python",
   "name": "python3"
  },
  "language_info": {
   "codemirror_mode": {
    "name": "ipython",
    "version": 3
   },
   "file_extension": ".py",
   "mimetype": "text/x-python",
   "name": "python",
   "nbconvert_exporter": "python",
   "pygments_lexer": "ipython3",
   "version": "3.10.16"
  },
  "papermill": {
   "default_parameters": {},
   "duration": 4.867001,
   "end_time": "2024-01-25T06:53:41.156918",
   "environment_variables": {},
   "exception": null,
   "input_path": "./02_models/sklearn_gaussian_nb_credit-g.ipynb",
   "output_path": "./02_models/sklearn_gaussian_nb_credit-g.ipynb",
   "parameters": {},
   "start_time": "2024-01-25T06:53:36.289917",
   "version": "2.5.0"
  }
 },
 "nbformat": 4,
 "nbformat_minor": 5
}
