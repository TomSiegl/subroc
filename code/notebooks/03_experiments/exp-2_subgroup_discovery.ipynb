{
 "cells": [
  {
   "cell_type": "markdown",
   "id": "29c9236e76e1aaa0",
   "metadata": {
    "collapsed": false,
    "jupyter": {
     "outputs_hidden": false
    },
    "papermill": {
     "duration": 0.003452,
     "end_time": "2024-05-19T20:52:54.169016",
     "exception": false,
     "start_time": "2024-05-19T20:52:54.165564",
     "status": "completed"
    },
    "tags": []
   },
   "source": [
    "# Series of experiments on turning the ARL metric into a useful interestingness measure"
   ]
  },
  {
   "cell_type": "markdown",
   "id": "1adb1d87b548be82",
   "metadata": {},
   "source": [
    "## Default Values for Papermill Parameters"
   ]
  },
  {
   "cell_type": "code",
   "execution_count": 17,
   "id": "374365a9737f87b3",
   "metadata": {
    "editable": true,
    "slideshow": {
     "slide_type": ""
    },
    "tags": [
     "parameters"
    ]
   },
   "outputs": [],
   "source": [
    "PARAM_QF = \"average_ranking_loss\" # or \"sklearn.metrics.roc_auc_score\" or \"prc_auc_score\"\n",
    "PARAM_QF_OUTPUT_BASENAME = \"interestingness_measure\"\n",
    "PARAM_RESULT_SET_OUTPUT_BASENAME = \"\"\n",
    "PARAM_DATA_IN_PATH = \"../../data\"\n",
    "PARAM_MODELS_IN_PATH = \"../../models\"\n",
    "\n",
    "PARAM_INCLUDE_STATISTICS = \"False\"\n",
    "\n",
    "# subgroup discovery parameters\n",
    "PARAM_DATASET_NAME = \"OpenML Adult\"\n",
    "PARAM_DATASET_STAGE = None\n",
    "PARAM_MODEL_NAME = \"sklearn_gaussian_nb_adult\"\n",
    "PARAM_SD_ALGORITHM = \"Apriori\"\n",
    "PARAM_OPTIMIZATION_MODE = \"Maximal\"\n",
    "PARAM_ENABLE_OPTIMISTIC_ESTIMATE = \"True\"\n",
    "PARAM_ENABLE_MINIMUM_PER_CLASS_SUPPORT_CONSTRAINT = \"False\"\n",
    "PARAM_MINIMUM_PER_CLASS_SUPPORT_CONSTRAINT_VALUE = 10\n",
    "PARAM_MINIMUM_SUPPORT_CONSTRAINT = None  # default: 1/100 of dataset size\n",
    "PARAM_COVER_SIZE_WEIGHT = 1\n",
    "PARAM_CLASS_BALANCE_WEIGHT = 1\n",
    "PARAM_DEPTH = 3\n",
    "PARAM_RESULT_SET_SIZE = 5\n",
    "PARAM_ENABLE_RANDOM_SAMPLING_P_VALUE_FACTOR = \"False\"\n",
    "PARAM_NUM_RANDOM_SAMPLES = 10000\n",
    "PARAM_ENABLE_GENERALIZATION_AWARENESS = \"False\"\n",
    "PARAM_SEED = 0"
   ]
  },
  {
   "cell_type": "markdown",
   "id": "debc7d6c301c9d9f",
   "metadata": {
    "collapsed": false,
    "jupyter": {
     "outputs_hidden": false
    },
    "papermill": {
     "duration": 0.001341,
     "end_time": "2024-05-19T20:52:54.172018",
     "exception": false,
     "start_time": "2024-05-19T20:52:54.170677",
     "status": "completed"
    },
    "tags": []
   },
   "source": [
    "## Import and Set Parameters"
   ]
  },
  {
   "cell_type": "code",
   "execution_count": null,
   "id": "initial_id",
   "metadata": {
    "collapsed": true,
    "execution": {
     "iopub.execute_input": "2024-05-19T20:52:54.177066Z",
     "iopub.status.busy": "2024-05-19T20:52:54.176122Z",
     "iopub.status.idle": "2024-05-19T20:52:55.621815Z",
     "shell.execute_reply": "2024-05-19T20:52:55.620439Z"
    },
    "jupyter": {
     "outputs_hidden": true
    },
    "papermill": {
     "duration": 1.45101,
     "end_time": "2024-05-19T20:52:55.624457",
     "exception": false,
     "start_time": "2024-05-19T20:52:54.173447",
     "status": "completed"
    },
    "tags": []
   },
   "outputs": [],
   "source": [
    "from subroc.model_serialization import deserialize\n",
    "from subroc.quality_functions.base_qf import OptimizationMode, PredictionType\n",
    "from subroc.datasets.metadata import to_DatasetName\n",
    "from subroc.datasets.reader import DatasetReader, DatasetStage\n",
    "from subroc.quality_functions.soft_classifier_target import SoftClassifierTarget\n",
    "from subroc.quality_functions.custom_metrics import get_custom_metric_qf_dict\n",
    "from subroc.quality_functions.sklearn_metrics import get_soft_classification_metric_qf_dict\n",
    "from subroc.selectors import create_selectors\n",
    "from subroc.sd_process import run_subgroup_discovery\n",
    "from subroc import util\n",
    "\n",
    "import pysubgroup as ps\n",
    "import pandas as pd\n",
    "import pickle\n",
    "import math\n",
    "import os\n",
    "\n",
    "# fill environment variables into params\n",
    "PARAM_DATA_IN_PATH = util.prepend_experiment_output_path(PARAM_DATA_IN_PATH)\n",
    "PARAM_MODELS_IN_PATH = util.prepend_experiment_output_path(PARAM_MODELS_IN_PATH)\n",
    "\n",
    "# get environment variables\n",
    "STAGE_OUTPUT_PATH = os.environ.get(\"STAGE_OUTPUT_PATH\", \"../..\")\n",
    "STAGE_OUTPUT_PATH2 = os.environ.get(\"STAGE_OUTPUT_PATH\", \"../outputs\")\n",
    "\n",
    "if PARAM_RESULT_SET_OUTPUT_BASENAME == \"\":\n",
    "    PARAM_RESULT_SET_OUTPUT_BASENAME = f\"sd_result_set_{PARAM_QF}\"\n",
    "\n",
    "PARAM_INCLUDE_STATISTICS = util.str_to_bool(PARAM_INCLUDE_STATISTICS)\n",
    "\n",
    "##### Subgroup Discovery Parameters #####\n",
    "\n",
    "# Dataset\n",
    "dataset_reader = DatasetReader(PARAM_DATA_IN_PATH)\n",
    "\n",
    "DATA_OUT_PATH = f\"{STAGE_OUTPUT_PATH}/data/processed\"\n",
    "if not os.path.exists(DATA_OUT_PATH):\n",
    "    os.makedirs(DATA_OUT_PATH)\n",
    "\n",
    "DATASET_NAME = to_DatasetName(PARAM_DATASET_NAME)\n",
    "\n",
    "if DATASET_NAME is None:\n",
    "    print(f\"dataset name '{PARAM_DATASET_NAME}' not supported.\")\n",
    "\n",
    "if PARAM_DATASET_STAGE is None:\n",
    "    DATASET_STAGE = DatasetStage.PROCESSED_MODEL_READY\n",
    "else:\n",
    "    DATASET_STAGE = DatasetStage(PARAM_DATASET_STAGE)\n",
    "\n",
    "# Model\n",
    "model = deserialize(PARAM_MODELS_IN_PATH, PARAM_MODEL_NAME)\n",
    "\n",
    "# SD Algorithm\n",
    "if str.lower(\"Apriori\") == str.lower(PARAM_SD_ALGORITHM):\n",
    "    PARAM_SD_ALGORITHM = ps.Apriori()\n",
    "elif str.lower(\"BestFirstSearch\") == str.lower(PARAM_SD_ALGORITHM):\n",
    "    PARAM_SD_ALGORITHM = ps.BestFirstSearch()\n",
    "\n",
    "# Selectors: Defined in a later cell\n",
    "\n",
    "# Constraints\n",
    "DEPTH = PARAM_DEPTH  # configures the default constraints\n",
    "CONSTRAINTS = []  # define later\n",
    "\n",
    "# Constraints may be updated in a later cell according to this param.\n",
    "PARAM_ENABLE_MINIMUM_PER_CLASS_SUPPORT_CONSTRAINT = util.str_to_bool(PARAM_ENABLE_MINIMUM_PER_CLASS_SUPPORT_CONSTRAINT)\n",
    "\n",
    "# Optimistic Estimate\n",
    "ENABLE_OPTIMISTIC_ESTIMATES = util.str_to_bool(PARAM_ENABLE_OPTIMISTIC_ESTIMATE)\n",
    "\n",
    "# Interestingness Measure(s)\n",
    "qfs_dict = {\n",
    "    \"average_ranking_loss\": get_custom_metric_qf_dict(\n",
    "        OptimizationMode.Maximal,\n",
    "        seed=PARAM_SEED,\n",
    "        enable_optimistic_estimates=ENABLE_OPTIMISTIC_ESTIMATES,\n",
    "    )[\"average_ranking_loss\"],\n",
    "    \"sklearn.metrics.roc_auc_score\": get_soft_classification_metric_qf_dict(\n",
    "        OptimizationMode.Maximal,\n",
    "        seed=PARAM_SEED,\n",
    "        enable_optimistic_estimates=ENABLE_OPTIMISTIC_ESTIMATES,\n",
    "    )[\"sklearn.metrics.roc_auc_score\"],\n",
    "    \"prc_auc_score\": get_custom_metric_qf_dict(\n",
    "        OptimizationMode.Maximal,\n",
    "        seed=PARAM_SEED,\n",
    "        enable_optimistic_estimates=ENABLE_OPTIMISTIC_ESTIMATES,\n",
    "    )[\"prc_auc_score\"],\n",
    "}\n",
    "QF = qfs_dict[PARAM_QF]\n",
    "\n",
    "QF.random_sampling_p_value_factor = util.str_to_bool(PARAM_ENABLE_RANDOM_SAMPLING_P_VALUE_FACTOR)\n",
    "QF.num_random_samples = PARAM_NUM_RANDOM_SAMPLES\n",
    "\n",
    "PARAM_ENABLE_GENERALIZATION_AWARENESS = util.str_to_bool(PARAM_ENABLE_GENERALIZATION_AWARENESS)\n",
    "\n",
    "# the optimization mode effectively modifies the interestingness measure\n",
    "if str.lower(PARAM_OPTIMIZATION_MODE) == \"maximal\":\n",
    "    OPTIMIZATION_MODE = OptimizationMode.Maximal  \n",
    "elif str.lower(PARAM_OPTIMIZATION_MODE) == \"minimal\":\n",
    "    OPTIMIZATION_MODE = OptimizationMode.Minimal\n",
    "else:\n",
    "    OPTIMIZATION_MODE = OptimizationMode.Exceptional\n",
    "\n",
    "# Result Set Size\n",
    "RESULT_SET_SIZE = PARAM_RESULT_SET_SIZE\n",
    "\n",
    "# Interestingness Minimum\n",
    "MIN_QUALITY = 0"
   ]
  },
  {
   "cell_type": "markdown",
   "id": "594f39aaf7afd6b6",
   "metadata": {
    "collapsed": false,
    "jupyter": {
     "outputs_hidden": false
    },
    "papermill": {
     "duration": 0.001399,
     "end_time": "2024-05-19T20:52:55.628656",
     "exception": false,
     "start_time": "2024-05-19T20:52:55.627257",
     "status": "completed"
    },
    "tags": []
   },
   "source": [
    "## Get and Preprocess the Data"
   ]
  },
  {
   "cell_type": "code",
   "execution_count": null,
   "id": "ccd517cf613cb583",
   "metadata": {
    "collapsed": false,
    "execution": {
     "iopub.execute_input": "2024-05-19T20:52:55.633141Z",
     "iopub.status.busy": "2024-05-19T20:52:55.632630Z",
     "iopub.status.idle": "2024-05-19T20:52:55.666191Z",
     "shell.execute_reply": "2024-05-19T20:52:55.665293Z"
    },
    "jupyter": {
     "outputs_hidden": false
    },
    "papermill": {
     "duration": 0.0383,
     "end_time": "2024-05-19T20:52:55.668368",
     "exception": false,
     "start_time": "2024-05-19T20:52:55.630068",
     "status": "completed"
    },
    "tags": []
   },
   "outputs": [],
   "source": [
    "# read data and preprocess it for the model\n",
    "(train_data, test_data), dataset_meta = dataset_reader.read_dataset(DATASET_NAME, DATASET_STAGE)\n",
    "\n",
    "if DATASET_STAGE == DatasetStage.PROCESSED_MODEL_READY:\n",
    "    # prepare classification predictions\n",
    "    dataset_meta.prediction_type = PredictionType.CLASSIFICATION_SOFT\n",
    "\n",
    "    train_data_x = train_data.loc[:, train_data.columns != dataset_meta.gt_name]\n",
    "    train_data[dataset_meta.score_name] = model.predict(train_data_x)\n",
    "    test_data_x = test_data.loc[:, test_data.columns != dataset_meta.gt_name]\n",
    "    test_data[dataset_meta.score_name] = model.predict(test_data_x)\n",
    "\n",
    "    # save data with predictions\n",
    "    out_path = DATA_OUT_PATH + \"/\" + dataset_meta.dataset_dir\n",
    "    if not os.path.exists(out_path):\n",
    "        os.mkdir(out_path)\n",
    "\n",
    "    train_data.to_csv(out_path + \"/\" + \"model_predicted_train.csv\", index=False)\n",
    "    test_data.to_csv(out_path + \"/\" + \"model_predicted_test.csv\", index=False)\n",
    "\n",
    "# sd objects\n",
    "target = SoftClassifierTarget(dataset_meta.gt_name, dataset_meta.score_name)"
   ]
  },
  {
   "cell_type": "markdown",
   "id": "e3504a7fe22d320d",
   "metadata": {},
   "source": [
    "## Define Selectors (Search Space)"
   ]
  },
  {
   "cell_type": "code",
   "execution_count": 20,
   "id": "d136c77f622fe8f1",
   "metadata": {},
   "outputs": [],
   "source": [
    "IGNORE_NULL = True\n",
    "intermediate_search_space = create_selectors(\n",
    "    test_data,\n",
    "    nbins=10,\n",
    "    ignore=[dataset_meta.gt_name, dataset_meta.score_name],\n",
    "    ignore_null=IGNORE_NULL\n",
    ")\n",
    "\n",
    "# Dummy attributes contain values that correspond to inequality of an original nominal value.\n",
    "# Equality selectors with such values effectively define inequality selectors with the original nominal values.\n",
    "# They are therefore removed.\n",
    "SEARCH_SPACE = []\n",
    "for selector in intermediate_search_space:\n",
    "    if isinstance(selector, ps.EqualitySelector) and not selector.attribute_value:\n",
    "        continue\n",
    "    \n",
    "    SEARCH_SPACE.append(selector)"
   ]
  },
  {
   "cell_type": "markdown",
   "id": "dcfdd485",
   "metadata": {},
   "source": [
    "## Define Constraints (minimum per-class support)"
   ]
  },
  {
   "cell_type": "code",
   "execution_count": null,
   "id": "0bd5386b",
   "metadata": {},
   "outputs": [],
   "source": [
    "if PARAM_MINIMUM_SUPPORT_CONSTRAINT is not None:\n",
    "    CONSTRAINTS.append(ps.MinSupportConstraint(PARAM_MINIMUM_SUPPORT_CONSTRAINT))\n",
    "else:\n",
    "    CONSTRAINTS.append(ps.MinSupportConstraint(math.ceil(len(test_data) / 100)))"
   ]
  },
  {
   "cell_type": "markdown",
   "id": "bc3c112b1c7d1713",
   "metadata": {
    "collapsed": false,
    "jupyter": {
     "outputs_hidden": false
    },
    "papermill": {
     "duration": 0.001783,
     "end_time": "2024-05-19T20:52:55.696045",
     "exception": false,
     "start_time": "2024-05-19T20:52:55.694262",
     "status": "completed"
    },
    "tags": []
   },
   "source": [
    "# Run Subgroup Discovery"
   ]
  },
  {
   "cell_type": "code",
   "execution_count": null,
   "id": "fe3d85877bbd5c16",
   "metadata": {
    "collapsed": false,
    "execution": {
     "iopub.execute_input": "2024-05-19T20:52:55.700123Z",
     "iopub.status.busy": "2024-05-19T20:52:55.699912Z",
     "iopub.status.idle": "2024-05-19T23:45:07.637350Z",
     "shell.execute_reply": "2024-05-19T23:45:07.636634Z"
    },
    "jupyter": {
     "outputs_hidden": false
    },
    "papermill": {
     "duration": 10331.941394,
     "end_time": "2024-05-19T23:45:07.638912",
     "exception": false,
     "start_time": "2024-05-19T20:52:55.697518",
     "status": "completed"
    },
    "tags": []
   },
   "outputs": [],
   "source": [
    "QF.optimization_mode = OPTIMIZATION_MODE\n",
    "\n",
    "print(f\"--- {QF.__name__} with {OPTIMIZATION_MODE} ---\")\n",
    "\n",
    "# enable the size and class imbalance term\n",
    "QF.subgroup_size_weight = PARAM_COVER_SIZE_WEIGHT\n",
    "QF.subgroup_class_balance_weight = PARAM_CLASS_BALANCE_WEIGHT\n",
    "\n",
    "results = run_subgroup_discovery(\n",
    "    [QF],\n",
    "    [QF.__name__],\n",
    "    test_data,\n",
    "    dataset_meta,\n",
    "    result_set_size=RESULT_SET_SIZE,\n",
    "    ignore_null=IGNORE_NULL,\n",
    "    summarize=True,\n",
    "    target=target,\n",
    "    constraints=CONSTRAINTS,\n",
    "    search_space=SEARCH_SPACE,\n",
    "    depth=DEPTH,\n",
    "    min_quality=MIN_QUALITY,\n",
    "    enable_generalization_awareness=PARAM_ENABLE_GENERALIZATION_AWARENESS,\n",
    "    sd_algorithm=PARAM_SD_ALGORITHM\n",
    ")[QF.__name__]\n",
    "# results_flat = functools.reduce(operator.iconcat, results, [])\n",
    "# results_flat.sort(key=lambda x: x[0], reverse=True)\n",
    "\n",
    "results_dicts = []\n",
    "for outer_result in results:\n",
    "    for inner_result in outer_result:\n",
    "        result_dict = {\"interestingness\": inner_result[0], \"pattern\": inner_result[1]}\n",
    "        \n",
    "        if PARAM_INCLUDE_STATISTICS:\n",
    "            result_dict |= inner_result[2]\n",
    "\n",
    "        results_dicts.append(result_dict)"
   ]
  },
  {
   "cell_type": "markdown",
   "id": "c06a09638880bef1",
   "metadata": {},
   "source": [
    "## Save the Result Sets"
   ]
  },
  {
   "cell_type": "code",
   "execution_count": null,
   "id": "e676828ae2076ae8",
   "metadata": {},
   "outputs": [],
   "source": [
    "results_df = None\n",
    "\n",
    "if not PARAM_INCLUDE_STATISTICS:\n",
    "    results_df = pd.DataFrame(results_dicts, columns=[\"interestingness\", \"pattern\"])\n",
    "else:\n",
    "    result_df = pd.DataFrame(results_dicts)\n",
    "\n",
    "results_df.to_csv(f\"{STAGE_OUTPUT_PATH2}/{PARAM_RESULT_SET_OUTPUT_BASENAME}.csv\", index=False)"
   ]
  },
  {
   "cell_type": "markdown",
   "id": "8298f3538dd02231",
   "metadata": {},
   "source": [
    "## Save the Interestingness Measure"
   ]
  },
  {
   "cell_type": "code",
   "execution_count": 24,
   "id": "6ba940544164aa0f",
   "metadata": {},
   "outputs": [],
   "source": [
    "if PARAM_ENABLE_GENERALIZATION_AWARENESS:\n",
    "    QF = ps.GeneralizationAwareQF(QF)\n",
    "\n",
    "with open(STAGE_OUTPUT_PATH2 + \"/\" + PARAM_QF_OUTPUT_BASENAME + \".pickle\", \"wb\") as file:\n",
    "    pickle.dump(QF, file)"
   ]
  },
  {
   "cell_type": "markdown",
   "id": "f2331906",
   "metadata": {},
   "source": [
    "# Print Process Status Info"
   ]
  },
  {
   "cell_type": "code",
   "execution_count": null,
   "id": "db8ea83c",
   "metadata": {},
   "outputs": [],
   "source": [
    "util.print_proc_status()"
   ]
  }
 ],
 "metadata": {
  "kernelspec": {
   "display_name": "subroc",
   "language": "python",
   "name": "python3"
  },
  "language_info": {
   "codemirror_mode": {
    "name": "ipython",
    "version": 3
   },
   "file_extension": ".py",
   "mimetype": "text/x-python",
   "name": "python",
   "nbconvert_exporter": "python",
   "pygments_lexer": "ipython3",
   "version": "3.10.16"
  },
  "papermill": {
   "default_parameters": {},
   "duration": 10337.086946,
   "end_time": "2024-05-19T23:45:10.335299",
   "environment_variables": {},
   "exception": null,
   "input_path": "./03_experiments/201_upgraded_metrics.ipynb",
   "output_path": "./03_experiments/201_upgraded_metrics.ipynb",
   "parameters": {},
   "start_time": "2024-05-19T20:52:53.248353",
   "version": "2.5.0"
  }
 },
 "nbformat": 4,
 "nbformat_minor": 5
}
