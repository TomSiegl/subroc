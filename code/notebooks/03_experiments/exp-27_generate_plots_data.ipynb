{
 "cells": [
  {
   "cell_type": "markdown",
   "id": "f01823f6cab2bcde",
   "metadata": {},
   "source": [
    "# Generate the data for analytical plots about impact of size and class imbalance factors"
   ]
  },
  {
   "cell_type": "markdown",
   "id": "2d4e903e",
   "metadata": {},
   "source": [
    "## Default Values for Papermill Parameters"
   ]
  },
  {
   "cell_type": "code",
   "execution_count": 1,
   "id": "8cc040e4",
   "metadata": {
    "tags": [
     "parameters"
    ]
   },
   "outputs": [],
   "source": [
    "PARAM_NUM_SIZES = 99\n",
    "PARAM_NUM_CLASS_BALANCES = 100\n",
    "PARAM_NUM_CORRELATIONS = 100  # must be even\n",
    "PARAM_SAMPLE_SIZE = 20\n",
    "\n",
    "PARAM_ENABLE_PLOTS = \"False\"\n",
    "\n",
    "PARAM_SEED = 0"
   ]
  },
  {
   "cell_type": "markdown",
   "id": "462180db99c2579",
   "metadata": {},
   "source": [
    "## Prepare constant variables that will be used throughout the notebook."
   ]
  },
  {
   "cell_type": "code",
   "execution_count": 2,
   "id": "initial_id",
   "metadata": {
    "collapsed": true
   },
   "outputs": [],
   "source": [
    "from subroc.quality_functions.sklearn_metrics import get_soft_classification_metric_qf_dict\n",
    "from subroc.quality_functions.base_qf import OptimizationMode\n",
    "from subroc.quality_functions.custom_metrics import get_custom_metric_qf_dict\n",
    "from subroc.quality_functions.soft_classifier_target import SoftClassifierTarget\n",
    "from subroc.util import create_subgroup\n",
    "from subroc import util\n",
    "\n",
    "import os\n",
    "import pandas as pd\n",
    "import numpy as np\n",
    "from tqdm.notebook import tqdm\n",
    "import matplotlib.pyplot as plt\n",
    "\n",
    "STAGE_OUTPUT_PATH = os.environ.get(\"STAGE_OUTPUT_PATH\", \"../outputs\")\n",
    "\n",
    "NP_RNG = np.random.default_rng(PARAM_SEED)\n",
    "\n",
    "PARAM_ENABLE_PLOTS = util.str_to_bool(PARAM_ENABLE_PLOTS)"
   ]
  },
  {
   "cell_type": "markdown",
   "id": "4f24ab26c78f0728",
   "metadata": {},
   "source": [
    "## Set QFs"
   ]
  },
  {
   "cell_type": "code",
   "execution_count": 3,
   "id": "b622a07002fd55cf",
   "metadata": {},
   "outputs": [],
   "source": [
    "base_qfs = [\n",
    "    get_custom_metric_qf_dict(OptimizationMode.Maximal)[\"average_ranking_loss\"],\n",
    "    get_soft_classification_metric_qf_dict(OptimizationMode.Maximal)[\"sklearn.metrics.roc_auc_score\"],\n",
    "    get_custom_metric_qf_dict(OptimizationMode.Maximal)[\"prc_auc_score\"],\n",
    "]\n",
    "\n",
    "size_factor_qfs = [\n",
    "    get_custom_metric_qf_dict(OptimizationMode.Maximal)[\"average_ranking_loss\"],\n",
    "    get_soft_classification_metric_qf_dict(OptimizationMode.Maximal)[\"sklearn.metrics.roc_auc_score\"],\n",
    "    get_custom_metric_qf_dict(OptimizationMode.Maximal)[\"prc_auc_score\"],\n",
    "]\n",
    "\n",
    "for qf in size_factor_qfs:\n",
    "    qf.subgroup_size_weight = 1\n",
    "\n",
    "class_imbalance_factor_qfs = [\n",
    "    get_custom_metric_qf_dict(OptimizationMode.Maximal)[\"average_ranking_loss\"],\n",
    "    get_soft_classification_metric_qf_dict(OptimizationMode.Maximal)[\"sklearn.metrics.roc_auc_score\"],\n",
    "    get_custom_metric_qf_dict(OptimizationMode.Maximal)[\"prc_auc_score\"],\n",
    "]\n",
    "\n",
    "for qf in class_imbalance_factor_qfs:\n",
    "    qf.subgroup_class_balance_weight = 1\n",
    "\n",
    "QFS = [*base_qfs, *size_factor_qfs, *class_imbalance_factor_qfs]"
   ]
  },
  {
   "cell_type": "markdown",
   "id": "19cbfac760514930",
   "metadata": {},
   "source": [
    "## Generate the base data"
   ]
  },
  {
   "cell_type": "code",
   "execution_count": null,
   "id": "9df8f0b2e4847ecf",
   "metadata": {},
   "outputs": [],
   "source": [
    "PROB_COL = \"prob\"\n",
    "CLASS_COL = \"class\"\n",
    "PRED_COL = \"pred\"\n",
    "\n",
    "# Similar to reference data generation in \"When to consult precision-recall curves\"\n",
    "def generate_data(size: int, negative_class_ratio: float, correlation: float) -> pd.DataFrame:\n",
    "    # Generate (size) many ground-truth-prediction pairs from bivariate normal distribution with theoretical correlation and given class balance [0.0 - 1.0]\n",
    "    flip_preds = False\n",
    "    if correlation < 0:\n",
    "        correlation *= -1\n",
    "        flip_preds = True\n",
    "    \n",
    "    mean = [0, 0]\n",
    "    covariance_matrix = [[1, correlation], [correlation, 1]]\n",
    "    \n",
    "    data = pd.DataFrame(NP_RNG.multivariate_normal(mean, covariance_matrix, size=size), columns=[PROB_COL, PRED_COL])\n",
    "    prob_quantile = np.quantile(data[PROB_COL], negative_class_ratio)\n",
    "    data[CLASS_COL] = data[PROB_COL] > prob_quantile\n",
    "    \n",
    "    if sum(data[CLASS_COL]) == 0 or sum(data[CLASS_COL]) == len(data):\n",
    "        data[CLASS_COL] = data[PROB_COL] <= min(data[PROB_COL])\n",
    "        \n",
    "    if flip_preds:\n",
    "        data[PRED_COL] = -1 * data[PRED_COL]\n",
    "    \n",
    "    return data"
   ]
  },
  {
   "cell_type": "markdown",
   "id": "61d43dbec2aa6edd",
   "metadata": {},
   "source": [
    "## Define plot data generation functions for interestingness measures over varying size and correlation"
   ]
  },
  {
   "cell_type": "code",
   "execution_count": 5,
   "id": "74beebe61321a332",
   "metadata": {},
   "outputs": [],
   "source": [
    "\n",
    "\n",
    "def generate_size_plot_data(plot: bool = False) -> dict:\n",
    "    data_per_qf = {}\n",
    "    \n",
    "    for qf in QFS:\n",
    "        # compute a synthetic \"dataset quality\" for reference in relative qf computation based on median negative class ratio and correlation\n",
    "        reference_score_sample = []\n",
    "        for _ in range(PARAM_SAMPLE_SIZE):\n",
    "            reference_data = generate_data(PARAM_NUM_SIZES+1, 0.5, 0)\n",
    "            reference_target = SoftClassifierTarget(CLASS_COL, PRED_COL)\n",
    "            qf.calculate_constant_statistics(reference_data, reference_target)\n",
    "            reference_score_sample.append(qf.dataset_quality)\n",
    "        synthetic_dataset_quality = np.average(reference_score_sample)\n",
    "        print(f\"Synthetic dataset quality: {synthetic_dataset_quality}\")\n",
    "        \n",
    "        sizes = []\n",
    "        correlations = []\n",
    "        scores = []\n",
    "        score_matrix = np.zeros([PARAM_NUM_CORRELATIONS, PARAM_NUM_SIZES])\n",
    "        \n",
    "        for i, size in enumerate(tqdm(range(2, PARAM_NUM_SIZES+2))):\n",
    "            for j, correlation in enumerate(np.linspace(-1, 1, num=PARAM_NUM_CORRELATIONS)):\n",
    "                score_sample = []\n",
    "                for _ in range(PARAM_SAMPLE_SIZE):\n",
    "                    data = generate_data(size, 0.5, correlation)\n",
    "\n",
    "                    subgroup = create_subgroup(data, [])\n",
    "                    target = SoftClassifierTarget(CLASS_COL, PRED_COL)\n",
    "\n",
    "                    qf.calculate_constant_statistics(data, target)\n",
    "                    qf.dataset_quality = synthetic_dataset_quality\n",
    "                    statistics = qf.calculate_statistics(subgroup, target, data)\n",
    "                    score = qf.evaluate(subgroup, target, data, statistics)\n",
    "                    score_sample.append(score)\n",
    "                score = np.average(score_sample)\n",
    "                \n",
    "                sizes.append(size)\n",
    "                correlations.append(correlation)\n",
    "                scores.append(score)\n",
    "                score_matrix[PARAM_NUM_CORRELATIONS - j - 1, i] = score\n",
    "\n",
    "        qf_string = f\"{qf.optimization_mode} {qf.__name__} {qf.subgroup_size_weight} {qf.subgroup_class_balance_weight}\"\n",
    "        data_per_qf[qf_string] = pd.DataFrame({\"size\": sizes, \"correlation\": correlations, \"score\": scores})\n",
    "         \n",
    "        if plot:\n",
    "            plt.matshow(score_matrix)\n",
    "            plt.title(qf_string)\n",
    "            plt.xlabel(\"Size\")\n",
    "            plt.ylabel(\"Correlation\")\n",
    "            plt.colorbar()\n",
    "            plt.show()\n",
    "        \n",
    "    return data_per_qf\n",
    "\n",
    "\n",
    "def generate_class_balance_plot_data(plot: bool = False) -> dict:\n",
    "    data_per_qf = {}\n",
    "\n",
    "    for qf in QFS:\n",
    "        # compute a synthetic \"dataset quality\" for reference in relative qf computation based on median negative class ratio and correlation\n",
    "        reference_score_sample = []\n",
    "        for _ in range(PARAM_SAMPLE_SIZE):\n",
    "            reference_data = generate_data(PARAM_NUM_SIZES+1, 0.5, 0)\n",
    "            reference_target = SoftClassifierTarget(CLASS_COL, PRED_COL)\n",
    "            qf.calculate_constant_statistics(reference_data, reference_target)\n",
    "            reference_score_sample.append(qf.dataset_quality)\n",
    "        synthetic_dataset_quality = np.average(reference_score_sample)\n",
    "        print(f\"Synthetic dataset quality: {synthetic_dataset_quality}\")\n",
    "\n",
    "        negative_class_ratios = []\n",
    "        correlations = []\n",
    "        scores = []\n",
    "        score_matrix = np.zeros([PARAM_NUM_CORRELATIONS, PARAM_NUM_CLASS_BALANCES])\n",
    "\n",
    "        for i, negative_class_ratio in enumerate(tqdm(np.linspace(0, 1, num=PARAM_NUM_CLASS_BALANCES+1, endpoint=False)[1:])):\n",
    "            for j, correlation in enumerate(np.linspace(-1, 1, num=PARAM_NUM_CORRELATIONS)):\n",
    "                score_sample = []\n",
    "                for _ in range(PARAM_SAMPLE_SIZE):\n",
    "                    data = generate_data(100, negative_class_ratio, correlation)\n",
    "\n",
    "                    subgroup = create_subgroup(data, [])\n",
    "                    target = SoftClassifierTarget(CLASS_COL, PRED_COL)\n",
    "\n",
    "                    qf.calculate_constant_statistics(data, target)\n",
    "                    qf.dataset_quality = synthetic_dataset_quality\n",
    "                    statistics = qf.calculate_statistics(subgroup, target, data)\n",
    "                    score = qf.evaluate(subgroup, target, data, statistics)\n",
    "                    score_sample.append(score)\n",
    "                score = np.average(score_sample)\n",
    "\n",
    "                negative_class_ratios.append(negative_class_ratio)\n",
    "                correlations.append(correlation)\n",
    "                scores.append(score)\n",
    "                score_matrix[PARAM_NUM_CORRELATIONS - j - 1, i] = score\n",
    "\n",
    "        qf_string = f\"{qf.optimization_mode} {qf.__name__} {qf.subgroup_size_weight} {qf.subgroup_class_balance_weight}\"\n",
    "        data_per_qf[qf_string] = pd.DataFrame({\"negative_class_ratio\": negative_class_ratios, \"correlation\": correlations, \"score\": scores})\n",
    "\n",
    "        if plot:\n",
    "            plt.matshow(score_matrix)\n",
    "            plt.title(qf_string)\n",
    "            plt.xlabel(\"Negative Class Ratio\")\n",
    "            plt.ylabel(\"Correlation\")\n",
    "            plt.colorbar()\n",
    "            plt.show()\n",
    "\n",
    "    return data_per_qf\n",
    "\n"
   ]
  },
  {
   "cell_type": "markdown",
   "id": "65ef008e09e4c9fe",
   "metadata": {},
   "source": [
    "## Generate plot data for interestingness measures over varying size and correlation"
   ]
  },
  {
   "cell_type": "code",
   "execution_count": null,
   "id": "a1e2c4afe4c9548d",
   "metadata": {},
   "outputs": [],
   "source": [
    "size_plot_data_per_qf = generate_size_plot_data(plot=PARAM_ENABLE_PLOTS)"
   ]
  },
  {
   "cell_type": "markdown",
   "id": "cd5172a1aa59020b",
   "metadata": {},
   "source": [
    "## Generate plot data for interestingness measures over varying size and correlation"
   ]
  },
  {
   "cell_type": "code",
   "execution_count": null,
   "id": "a52a290a76db212c",
   "metadata": {},
   "outputs": [],
   "source": [
    "class_balance_plot_data_per_qf = generate_class_balance_plot_data(plot=PARAM_ENABLE_PLOTS)"
   ]
  },
  {
   "cell_type": "markdown",
   "id": "4543300c5b02785f",
   "metadata": {},
   "source": [
    "## Save the results"
   ]
  },
  {
   "cell_type": "code",
   "execution_count": null,
   "id": "cb36a218c0c1499e",
   "metadata": {},
   "outputs": [],
   "source": [
    "for qf in QFS:\n",
    "    qf_string = f\"{qf.optimization_mode} {qf.__name__} {qf.subgroup_size_weight} {qf.subgroup_class_balance_weight}\"\n",
    "    \n",
    "    size_plot_data = size_plot_data_per_qf[qf_string]\n",
    "    class_balance_plot_data = class_balance_plot_data_per_qf[qf_string]\n",
    "\n",
    "    qf_optimization_mode_file_string = str(qf.optimization_mode).split(\".\")[-1].lower()\n",
    "    size_plot_data.to_csv(STAGE_OUTPUT_PATH + \"/\" + f\"result_factors_analytical_size_{qf.__name__}_{qf_optimization_mode_file_string}_s{qf.subgroup_size_weight}_cb{qf.subgroup_class_balance_weight}.csv\", index=False)\n",
    "    class_balance_plot_data.to_csv(STAGE_OUTPUT_PATH + \"/\" + f\"result_factors_analytical_class_balance_{qf.__name__}_{qf_optimization_mode_file_string}_s{qf.subgroup_size_weight}_cb{qf.subgroup_class_balance_weight}.csv\", index=False)"
   ]
  },
  {
   "cell_type": "markdown",
   "id": "c8c5efc4",
   "metadata": {},
   "source": [
    "# Print Process Status Info"
   ]
  },
  {
   "cell_type": "code",
   "execution_count": null,
   "id": "4e0483cc",
   "metadata": {},
   "outputs": [],
   "source": [
    "util.print_proc_status()"
   ]
  }
 ],
 "metadata": {
  "kernelspec": {
   "display_name": "Python 3",
   "language": "python",
   "name": "python3"
  },
  "language_info": {
   "codemirror_mode": {
    "name": "ipython",
    "version": 3
   },
   "file_extension": ".py",
   "mimetype": "text/x-python",
   "name": "python",
   "nbconvert_exporter": "python",
   "pygments_lexer": "ipython3",
   "version": "3.10.14"
  }
 },
 "nbformat": 4,
 "nbformat_minor": 5
}
