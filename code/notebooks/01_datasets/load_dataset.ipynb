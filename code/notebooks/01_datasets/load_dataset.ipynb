{
 "cells": [
  {
   "cell_type": "markdown",
   "id": "7c211adf780dc7bb",
   "metadata": {
    "collapsed": false,
    "papermill": {
     "duration": 0.002069,
     "end_time": "2024-01-25T06:53:07.714325",
     "exception": false,
     "start_time": "2024-01-25T06:53:07.712256",
     "status": "completed"
    },
    "tags": []
   },
   "source": [
    "# Load the specified dataset and store it in the raw data directory."
   ]
  },
  {
   "cell_type": "markdown",
   "id": "69d3247e",
   "metadata": {},
   "source": [
    "## Default Values for Papermill Parameters"
   ]
  },
  {
   "cell_type": "code",
   "execution_count": null,
   "id": "4bc6f42a",
   "metadata": {
    "tags": [
     "parameters"
    ]
   },
   "outputs": [],
   "source": [
    "PARAM_DATASET_NAME = \"OpenML Adult\""
   ]
  },
  {
   "cell_type": "markdown",
   "id": "44271f918990a04c",
   "metadata": {
    "collapsed": false,
    "papermill": {
     "duration": 0.001416,
     "end_time": "2024-01-25T06:53:07.717479",
     "exception": false,
     "start_time": "2024-01-25T06:53:07.716063",
     "status": "completed"
    },
    "tags": []
   },
   "source": [
    "## Define constants"
   ]
  },
  {
   "cell_type": "code",
   "execution_count": null,
   "id": "5b8415db14c4406b",
   "metadata": {
    "ExecuteTime": {
     "end_time": "2024-01-17T10:37:35.498058900Z",
     "start_time": "2024-01-17T10:37:35.474703100Z"
    },
    "collapsed": false,
    "execution": {
     "iopub.execute_input": "2024-01-25T06:53:07.720943Z",
     "iopub.status.busy": "2024-01-25T06:53:07.720508Z",
     "iopub.status.idle": "2024-01-25T06:53:08.007179Z",
     "shell.execute_reply": "2024-01-25T06:53:08.005902Z"
    },
    "papermill": {
     "duration": 0.290498,
     "end_time": "2024-01-25T06:53:08.009175",
     "exception": false,
     "start_time": "2024-01-25T06:53:07.718677",
     "status": "completed"
    },
    "tags": []
   },
   "outputs": [],
   "source": [
    "import os\n",
    "import numpy as np\n",
    "\n",
    "from subroc.datasets.metadata import meta_dict, DatasetName, to_DatasetName\n",
    "\n",
    "\n",
    "STAGE_OUTPUT_PATH = os.environ.get(\"STAGE_OUTPUT_PATH\", \"../..\")\n",
    "CACHE_PATH = os.environ.get(\"CACHE_PATH\", \"../cache\")\n",
    "\n",
    "DATA_OUT_PATH = f\"{STAGE_OUTPUT_PATH}/data/raw\"\n",
    "    \n",
    "if not os.path.exists(DATA_OUT_PATH):\n",
    "    os.makedirs(DATA_OUT_PATH)\n",
    "\n",
    "DATASET_NAME = to_DatasetName(PARAM_DATASET_NAME)\n",
    "DATASET_META = meta_dict[DATASET_NAME]"
   ]
  },
  {
   "cell_type": "markdown",
   "id": "6217f046c754834",
   "metadata": {
    "collapsed": false,
    "papermill": {
     "duration": 0.001272,
     "end_time": "2024-01-25T06:53:08.012238",
     "exception": false,
     "start_time": "2024-01-25T06:53:08.010966",
     "status": "completed"
    },
    "tags": []
   },
   "source": [
    "## Load the dataset"
   ]
  },
  {
   "cell_type": "code",
   "execution_count": null,
   "id": "initial_id",
   "metadata": {
    "ExecuteTime": {
     "end_time": "2024-01-17T10:37:36.963199700Z",
     "start_time": "2024-01-17T10:37:35.493570800Z"
    },
    "collapsed": true,
    "execution": {
     "iopub.execute_input": "2024-01-25T06:53:08.017703Z",
     "iopub.status.busy": "2024-01-25T06:53:08.016343Z",
     "iopub.status.idle": "2024-01-25T06:53:09.921507Z",
     "shell.execute_reply": "2024-01-25T06:53:09.917980Z"
    },
    "papermill": {
     "duration": 1.910678,
     "end_time": "2024-01-25T06:53:09.924125",
     "exception": false,
     "start_time": "2024-01-25T06:53:08.013447",
     "status": "completed"
    },
    "tags": []
   },
   "outputs": [],
   "source": [
    "dataset = DATASET_META.loader.load()"
   ]
  },
  {
   "cell_type": "markdown",
   "id": "6f9ee35f",
   "metadata": {},
   "source": [
    "## Show the dataset"
   ]
  },
  {
   "cell_type": "code",
   "execution_count": null,
   "id": "a017b989",
   "metadata": {},
   "outputs": [],
   "source": [
    "if DATASET_NAME == DatasetName.OpenML_ADULT:\n",
    "    print(dataset)\n",
    "\n",
    "    dataset_df, _, categorical_indicator, attribute_names = dataset.get_data()\n",
    "\n",
    "    print(dataset_df.describe())\n",
    "    print(categorical_indicator)\n",
    "    print(attribute_names)\n",
    "\n",
    "    print(f\"categorical attributes: {np.array(attribute_names)[categorical_indicator]}\")\n",
    "else:\n",
    "    dataset_df = dataset\n",
    "    print(dataset_df.describe())"
   ]
  },
  {
   "cell_type": "markdown",
   "id": "0638c7aa",
   "metadata": {},
   "source": [
    "## Save the dataset"
   ]
  },
  {
   "cell_type": "code",
   "execution_count": null,
   "id": "57a97ef0",
   "metadata": {},
   "outputs": [],
   "source": [
    "out_path = DATA_OUT_PATH + \"/\" + DATASET_META.dataset_dir\n",
    "if not os.path.exists(out_path):\n",
    "    os.mkdir(out_path)\n",
    "\n",
    "dataset_df.to_csv(out_path + \"/\" + DATASET_META.raw_filename + \".data\", index=False)"
   ]
  }
 ],
 "metadata": {
  "kernelspec": {
   "display_name": "subroc",
   "language": "python",
   "name": "python3"
  },
  "language_info": {
   "codemirror_mode": {
    "name": "ipython",
    "version": 3
   },
   "file_extension": ".py",
   "mimetype": "text/x-python",
   "name": "python",
   "nbconvert_exporter": "python",
   "pygments_lexer": "ipython3",
   "version": "3.10.14"
  },
  "papermill": {
   "default_parameters": {},
   "duration": 11.819331,
   "end_time": "2024-01-25T06:53:18.827909",
   "environment_variables": {},
   "exception": null,
   "input_path": "./01_datasets/load_datasets.ipynb",
   "output_path": "./01_datasets/load_datasets.ipynb",
   "parameters": {},
   "start_time": "2024-01-25T06:53:07.008578",
   "version": "2.5.0"
  }
 },
 "nbformat": 4,
 "nbformat_minor": 5
}
