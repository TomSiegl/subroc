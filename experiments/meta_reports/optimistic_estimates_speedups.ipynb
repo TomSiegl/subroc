{
 "cells": [
  {
   "cell_type": "markdown",
   "metadata": {},
   "source": [
    "# Combine into One DataFrame the Speedups in Runtime Measurements from Experiments of All Datasets"
   ]
  },
  {
   "cell_type": "markdown",
   "metadata": {},
   "source": [
    "## Papermill Parameters"
   ]
  },
  {
   "cell_type": "code",
   "execution_count": null,
   "metadata": {
    "tags": [
     "parameters"
    ]
   },
   "outputs": [],
   "source": [
    "PARAM_DEFINITIONS_PATH = \"../definitions\"\n",
    "PARAM_OUTPUT_PATH = \"../outputs\"\n",
    "\n",
    "PARAM_EXPERIMENTS_PER_WEIGHT = {\n",
    "    1:   [f\"exp-{i}\" for i in range(118, 126)],  # experiments including cover size and class balance weighting (alpha=1,   beta=1)\n",
    "    0.3: [f\"exp-{i}\" for i in range(142, 150)],  # experiments including cover size and class balance weighting (alpha=0.3, beta=0.3)\n",
    "    0.1: [f\"exp-{i}\" for i in range(134, 142)],  # experiments including cover size and class balance weighting (alpha=0.1, beta=0.1)\n",
    "    0:   [f\"exp-{i}\" for i in range(126, 134)]   # experiments without cover size and class balance weighting   (alpha=0,   beta=0)\n",
    "}\n",
    "\n",
    "PARAM_INPUT_STAGE = \"stage-07\"\n",
    "PARAM_INPUT_FILENAME = \"speedups_statistics_merged_runtimes.csv\"\n",
    "PARAM_DEPTH = 4"
   ]
  },
  {
   "cell_type": "markdown",
   "metadata": {},
   "source": [
    "## Load and Combine Results"
   ]
  },
  {
   "cell_type": "code",
   "execution_count": null,
   "metadata": {},
   "outputs": [],
   "source": [
    "import pandas as pd\n",
    "import yaml\n",
    "import os\n",
    "\n",
    "meta_reports_path = f\"{PARAM_OUTPUT_PATH}/meta_reports\"\n",
    "if not os.path.exists(meta_reports_path):\n",
    "    os.mkdir(meta_reports_path)\n",
    "\n",
    "out_dir = f\"{meta_reports_path}/optimistic_estimates\"\n",
    "if not os.path.exists(out_dir):\n",
    "    os.mkdir(out_dir)"
   ]
  },
  {
   "cell_type": "markdown",
   "metadata": {},
   "source": [
    "## Load and Combine Results"
   ]
  },
  {
   "cell_type": "code",
   "execution_count": null,
   "metadata": {},
   "outputs": [],
   "source": [
    "def get_results(input_experiments, weight):\n",
    "    stage_dicts = []\n",
    "\n",
    "    for exp in input_experiments:\n",
    "        with open(f\"{PARAM_DEFINITIONS_PATH}/{exp}/stage-00/global_params.yaml\") as global_params_file:\n",
    "            global_params = yaml.load(global_params_file, Loader=yaml.FullLoader)\n",
    "\n",
    "        exp_base_row = {\n",
    "            \"dataset\": global_params[\"PARAM_DATASET_NAME\"],\n",
    "        }\n",
    "\n",
    "        try:\n",
    "            stage_df = pd.read_csv(f\"{PARAM_OUTPUT_PATH}/{exp}/{PARAM_INPUT_STAGE}/{PARAM_INPUT_FILENAME}\")\n",
    "\n",
    "            for _, row in stage_df[stage_df[\"depth\"] == PARAM_DEPTH].iterrows():\n",
    "                row_part = {\"qf_name\": row[\"qf_name\"], \"num_visited_subgroups_speedup\": row[\"num_visited_subgroups_speedup\"], \"time_speedup\": row[\"time_speedup\"]}\n",
    "                print(row_part)\n",
    "                stage_dicts.append(exp_base_row | row_part)\n",
    "                print(stage_dicts)\n",
    "        except FileNotFoundError:\n",
    "            null_row_part = {\"qf_name\": None, \"num_visited_subgroups_speedup\": None, \"time_speedup\": None}\n",
    "            stage_dicts.append(exp_base_row | null_row_part)\n",
    "            print(f\"{PARAM_OUTPUT_PATH}/{exp}/{PARAM_INPUT_STAGE}/{PARAM_INPUT_FILENAME} not found\")\n",
    "\n",
    "    all_outputs_df = pd.DataFrame(stage_dicts)\n",
    "\n",
    "    all_outputs_df.to_csv(f\"{out_dir}/optimistic_estimates_{weight}.csv\", index=False)\n",
    "    all_outputs_df.set_index([\"dataset\", \"qf_name\"], inplace=True)\n",
    "\n",
    "    return all_outputs_df\n",
    "\n",
    "\n",
    "all_outputs_joined_df = None\n",
    "for weight, experiments in PARAM_EXPERIMENTS_PER_WEIGHT.items():\n",
    "    outputs_df = get_results(experiments, weight)\n",
    "    outputs_df.rename(columns=lambda column: f\"{column}_{weight}\", inplace=True)\n",
    "\n",
    "    if all_outputs_joined_df is None:\n",
    "        all_outputs_joined_df = outputs_df\n",
    "        continue\n",
    "\n",
    "    all_outputs_joined_df = all_outputs_joined_df.join(outputs_df, validate=\"1:1\")\n",
    "\n",
    "all_outputs_joined_df"
   ]
  },
  {
   "cell_type": "markdown",
   "metadata": {},
   "source": [
    "## Turn into LaTeX Table Code"
   ]
  },
  {
   "cell_type": "code",
   "execution_count": null,
   "metadata": {},
   "outputs": [],
   "source": [
    "performance_measure_name_replacements = {\n",
    "        None: \"Missing\",\n",
    "        \"average_ranking_loss\": \"ARL\",\n",
    "        \"roc_auc_score\": \"ROC AUC\",\n",
    "        \"prc_auc_score\": \"PR AUC\"\n",
    "    }\n",
    "\n",
    "\n",
    "def makecell(string):\n",
    "    return r\"\\makecell{\" + string + r\"}\"\n",
    "\n",
    "\n",
    "def rotatebox(string, rot):\n",
    "    return r\"\\rotatebox{\" + str(rot) + r\"}{\" + string + r\"}\"\n",
    "\n",
    "\n",
    "def parbox(string, length_str):\n",
    "    return string\n",
    "    # return r\"\\parbox{\" + length_str + r\"}{\" + string + r\"}\"\n",
    "\n",
    "\n",
    "def str_format_num_visited_speedup(this):\n",
    "    return fr\"{100*this:.2f}\\%\"\n",
    "\n",
    "\n",
    "def str_format_time_speedup(this):\n",
    "    return f\"{this:.1f}\"\n",
    "\n",
    "\n",
    "latex_num_visited_dicts = []\n",
    "latex_time_dicts = []\n",
    "\n",
    "for dataset in all_outputs_joined_df.index.levels[0]:\n",
    "    for qf_name in all_outputs_joined_df.loc[dataset].index:\n",
    "        if str(qf_name).lower() == \"nan\":\n",
    "            continue\n",
    "        \n",
    "        for weight in PARAM_EXPERIMENTS_PER_WEIGHT.keys():\n",
    "            num_visited_speedup = all_outputs_joined_df.loc[(dataset, qf_name), f\"num_visited_subgroups_speedup_{weight}\"]\n",
    "\n",
    "            latex_num_visited_dicts.append({\n",
    "                \"dataset\": dataset,\n",
    "                r\"Performance\\\\Measure\": performance_measure_name_replacements[qf_name],\n",
    "                r\"Weight (\\alpha=\\beta)\": str(weight),\n",
    "                \"num_visited_speedup\": str_format_num_visited_speedup(num_visited_speedup)\n",
    "            })\n",
    "\n",
    "            time_speedup = all_outputs_joined_df.loc[(dataset, qf_name), f\"time_speedup_{weight}\"]\n",
    "\n",
    "            latex_time_dicts.append({\n",
    "                \"dataset\": dataset,\n",
    "                r\"Performance\\\\Measure\": performance_measure_name_replacements[qf_name],\n",
    "                r\"Weight (\\alpha=\\beta)\": str(weight),\n",
    "                \"time_speedup\": str_format_time_speedup(time_speedup),\n",
    "            })\n",
    "\n",
    "latex_time_df = pd.DataFrame(latex_time_dicts)\n",
    "latex_num_visited_df = pd.DataFrame(latex_num_visited_dicts)\n",
    "\n",
    "datasets_line_breaks_dict = {\n",
    "   \"UCI Credit Approval\": r\"UCI Credit Approval\",\n",
    "   \"UCI Breast Cancer Wisconsin\": r\"UCI Breast\\\\Cancer Wisconsin\",\n",
    "   \"Statlog (German Credit Data)\": r\"Statlog (German\\\\Credit Data)\",\n",
    "   \"UCI Mushroom\": r\"UCI Mushroom\",\n",
    "   \"UCI Credit Card Clients\": r\"UCI Credit\\\\Card Clients\",\n",
    "   \"UCI Bank Marketing\": r\"UCI Bank\\\\Marketing\",\n",
    "   \"OpenML Adult\": r\"OpenML Adult\",\n",
    "   \"UCI Census-Income (KDD)\": r\"UCI Census-Income\\\\(KDD)\",\n",
    "}\n",
    "\n",
    "rotation = 90\n",
    "rearranged_latex_time_df = latex_time_df.pivot(columns=[\"dataset\"], index=[r\"Performance\\\\Measure\", r\"Weight (\\alpha=\\beta)\"], values=[\"time_speedup\"])\n",
    "rearranged_latex_time_df.columns = rearranged_latex_time_df.columns.levels[1]\n",
    "rearranged_latex_time_df.sort_index(axis=\"columns\", ascending=False, inplace=True, key=lambda x: [list(datasets_line_breaks_dict.keys()).index(idx) for idx in x])\n",
    "rearranged_latex_time_df.rename(columns=lambda x: rotatebox(makecell(parbox(datasets_line_breaks_dict[x], \"3cm\")), rotation), inplace=True)\n",
    "rearranged_latex_time_df.columns.name = None\n",
    "\n",
    "rearranged_latex_num_visited_df = latex_num_visited_df.pivot(columns=[\"dataset\"], index=[r\"Performance\\\\Measure\", r\"Weight (\\alpha=\\beta)\"], values=[\"num_visited_speedup\"])\n",
    "rearranged_latex_num_visited_df.columns = rearranged_latex_num_visited_df.columns.levels[1]\n",
    "rearranged_latex_num_visited_df.sort_index(axis=\"columns\", ascending=False, inplace=True, key=lambda x: [list(datasets_line_breaks_dict.keys()).index(idx) for idx in x])\n",
    "rearranged_latex_num_visited_df.rename(columns=lambda x: rotatebox(makecell(parbox(datasets_line_breaks_dict[x], \"3cm\")), rotation), inplace=True)\n",
    "rearranged_latex_num_visited_df.columns.name = None\n",
    "\n",
    "rearranged_latex_num_visited_df.style.to_latex(f\"{out_dir}/optimistic_estimates_num_visited_speedup_table.tex\",\n",
    "                                               column_format=r\"lrrrrrrrrr\",\n",
    "                                               hrules=True,\n",
    "                                               clines=\"skip-last;data\")\n",
    "rearranged_latex_time_df.style.to_latex(f\"{out_dir}/optimistic_estimates_time_median_speedup_table.tex\",\n",
    "                                        column_format=r\"lrrrrrrrrr\",\n",
    "                                        hrules=True,\n",
    "                                        clines=\"skip-last;data\")\n",
    "\n",
    "latex_num_visited_df"
   ]
  }
 ],
 "metadata": {
  "kernelspec": {
   "display_name": "subroc",
   "language": "python",
   "name": "python3"
  },
  "language_info": {
   "codemirror_mode": {
    "name": "ipython",
    "version": 3
   },
   "file_extension": ".py",
   "mimetype": "text/x-python",
   "name": "python",
   "nbconvert_exporter": "python",
   "pygments_lexer": "ipython3",
   "version": "3.10.16"
  }
 },
 "nbformat": 4,
 "nbformat_minor": 2
}
